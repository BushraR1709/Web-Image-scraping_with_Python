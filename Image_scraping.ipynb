{
 "cells": [
  {
   "cell_type": "code",
   "execution_count": 10,
   "id": "fae4d728-8673-4189-b44b-64e262381a12",
   "metadata": {},
   "outputs": [],
   "source": [
    "import requests\n",
    "from bs4 import BeautifulSoup as bs\n",
    "from urllib.request import urlopen as uReq\n",
    "import os"
   ]
  },
  {
   "cell_type": "code",
   "execution_count": 11,
   "id": "0bf4b716-b5d7-4ff3-860a-3b3e09e04bf5",
   "metadata": {},
   "outputs": [],
   "source": [
    "save_dir = \"images/\"\n",
    "if not os.path.exists(save_dir):\n",
    "    os.makedirs(save_dir)\n"
   ]
  },
  {
   "cell_type": "code",
   "execution_count": 12,
   "id": "626a2e01-aafa-49f4-8ef0-993bb02a87f1",
   "metadata": {},
   "outputs": [],
   "source": [
    "headers = {\"User-Agent\":\"Mozilla/5.0 (Windows NT 10.0; Win64; x64) AppleWebKit/537.36 (KHTML, like Gecko) Chrome/51.0.2704.79 Safari/537.36 Edge/14.14393\"}"
   ]
  },
  {
   "cell_type": "code",
   "execution_count": 13,
   "id": "59cda8f3-b270-4360-b8f9-ce7162470915",
   "metadata": {},
   "outputs": [],
   "source": [
    "query = \"white cat\"\n",
    "search = requests.get(f\"https://www.google.com/search?q=white+cats&sca_esv=574851237&rlz=1C1VDKB_enIN1012IN1012&tbm=isch&sxsrf=AM9HkKloDZRIYDjOhiawuIlxLecaEWVh_w:1697726507175&source=lnms&sa=X&ved=2ahUKEwif7IqLrIKCAxVW1DgGHbYoAOEQ_AUoAXoECAIQAw&biw=1536&bih=707&dpr=1.25\")"
   ]
  },
  {
   "cell_type": "code",
   "execution_count": 14,
   "id": "9ef4f71b-8797-4f18-b94a-9de7035f3348",
   "metadata": {},
   "outputs": [
    {
     "data": {
      "text/plain": [
       "<Response [200]>"
      ]
     },
     "execution_count": 14,
     "metadata": {},
     "output_type": "execute_result"
    }
   ],
   "source": [
    "search"
   ]
  },
  {
   "cell_type": "code",
   "execution_count": 23,
   "id": "23edca15-d76e-47e8-a854-dc74107cb055",
   "metadata": {},
   "outputs": [
    {
     "data": {
      "text/plain": [
       "b'<!DOCTYPE html PUBLIC \"-//WAPFORUM//DTD XHTML Mobile 1.0//EN\" \"http://www.wapforum.org/DTD/xhtml-mobile10.dtd\"><html xmlns=\"http://www.w3.org/1999/xhtml\" lang=\"en-IN\"><head><meta content=\"application/xhtml+xml; charset=UTF-8\" http-equiv=\"Content-Type\"/><meta content=\"no-cache\" name=\"Cache-Control\"/><title>white cats - Google Search</title><style>a{text-decoration:none;color:inherit}a:hover{text-decoration:underline}a img{border:0}body{font-family:arial,sans-serif;padding:8px;margin:0 auto;max-width:700px;min-width:240px;}.FbhRzb{border-left:thin solid #dadce0;border-right:thin solid #dadce0;border-top:thin solid #dadce0;height:40px;overflow:hidden}.n692Zd{margin-bottom:10px}.cvifge{height:40px;border-spacing:0}.QvGUP{height:40px;padding:0 8px 0 8px;vertical-align:top}.O4cRJf{height:40px;width:100%;padding:0;padding-right:16px}.O1ePr{height:40px;padding:0;vertical-align:top}.kgJEQe{height:36px;width:98px;vertical-align:top;margin-top:4px}.lXLRf{vertical-align:top}.MhzMZd{border:0;vertical-align:middle;font-size:14px;height:40px;padding:0;width:100%;padding-left:16px}.xB0fq{height:40px;border:none;font-size:14px;background-color:#1a73e8;color:#fff;padding:0 16px;margin:0;vertical-align:top;cursor:pointer}.xB0fq:focus{border:1px solid #1a73e8}.M7pB2{border:thin solid #dadce0;margin:0 0 3px 0;font-size:13px;font-weight:500;height:40px}.euZec{width:100%;height:40px;text-align:center;border-spacing:0}table.euZec td{padding:0;width:25%}.QIqI7{display:inline-block;padding-top:4px;font-weight:bold;color:#4285f4}.EY24We{border-bottom:2px solid #4285f4}.CsQyDc{display:inline-block;color:#70757a}.TuS8Ad{font-size:14px}.HddGcc{padding:8px;color:#70757a}.dzp8ae{font-weight:bold;color:#3c4043}.rEM8G{color:#70757a}.bookcf{table-layout:fixed;width:100%;border-spacing:0}.InWNIe{text-align:center}.uZgmoc{border:thin solid #dadce0;color:#70757a;font-size:14px;text-align:center;table-layout:fixed;width:100%}.frGj1b{display:block;padding:12px 0 12px 0;width:100%}.BnJWBc{text-align:center;padding:6px 0 13px 0;height:35px}.e3goi{vertical-align:top;padding:0;height:180px}.GpQGbf{margin:auto;border-collapse:collapse;border-spacing:0;width:100%}</style></head><body><style>.X6ZCif{color:#202124;font-size:11px;line-height:16px;display:inline-block;padding-top:2px;overflow:hidden;padding-bottom:4px;width:100%}.TwVfHd{border-radius:16px;border:thin solid #dadce0;display:inline-block;padding:8px 8px;margin-right:8px;margin-bottom:4px}.yekiAe{background-color:#dadce0}.jjVJ4e{width:100%}.ezO2md{border:thin solid #dadce0;padding:12px 16px 12px 16px;margin-bottom:10px;font-family:arial,sans-serif}.lIMUZd{font-family:arial,sans-serif}.RntSmf{border-spacing:0}.lgD2Tc{width:100%}.SpelHe{text-align:center}.SpelHe{position:relative}.deHqpb{bottom:0;left:0;margin:auto;position:absolute;right:0;top:0}.kCmkOe{position:relative}.ID6Z3b{background-image:url(https://www.gstatic.com/search_trustx/visibility_off_icon_p0-7d897bf44bafe5436baa9009e8716337.png);background-repeat:no-repeat;background-position:center;background-size:20px}.kCmkOe{width:162px;height:140px;line-height:140px;overflow:\\'hidden\\';text-align:center}.DS1iW{text-align:center;margin:auto;vertical-align:middle;max-width:162px;max-height:140px}.AlD19d{padding-top:2px;padding-bottom:8px;}.fYyStc{word-break:break-word}.ynsChf{display:block;white-space:nowrap;overflow:hidden;text-overflow:ellipsis}.Fj3V3b{color:#1967d2;font-size:14px;line-height:20px}.FrIlee{color:#202124;font-size:11px;line-height:16px}.F9iS2e{color:#70757a;font-size:11px;line-height:16px}.WMQ2Le{color:#70757a;font-size:12px;line-height:16px}.x3G5ab{color:#202124;font-size:12px;line-height:16px}.fuLhoc{color:#1967d2;font-size:16px;line-height:20px}.epoveb{font-size:24px;line-height:28px;font-weight:400;color:#202124}.dXDvrc{color:#0d652d;font-size:14px;line-height:20px;word-wrap:break-word}.dloBPe{font-weight:bold}.YVIcad{color:#70757a}.JkVVdd{color:#ea4335}.oXZRFd{color:#ea4335}.MQHtg{color:#fbbc04}.pyMRrb{color:#1e8e3e}.EtTZid{color:#1e8e3e}.M3vVJe{color:#1967d2}.qXLe6d{display:block}.NHQNef{font-style:italic}.Cb8Z7c{white-space:pre}a.ZWRArf{text-decoration:none}a .CVA68e:hover{text-decoration:underline}</style><div class=\"n692Zd\"><div class=\"BnJWBc\"><a class=\"lXLRf\" href=\"/?sa=X&amp;sca_esv=574851237&amp;rlz=1C1VDKB_enIN1012IN1012&amp;biw=1536&amp;bih=707&amp;output=images&amp;ie=UTF-8&amp;tbm=isch&amp;ved=0ahUKEwioo5nstoKCAxUCwjgGHX4lCtMQPAgC\"><img class=\"kgJEQe\" src=\"/images/branding/searchlogo/1x/googlelogo_desk_heirloom_color_150x55dp.gif\" alt=\"Google\"/></a></div><div class=\"FbhRzb\"><form action=\"/search\"><input name=\"sca_esv\" value=\"574851237\" type=\"hidden\"/><input name=\"rlz\" value=\"1C1VDKB_enIN1012IN1012\" type=\"hidden\"/><input name=\"biw\" value=\"1536\" type=\"hidden\"/><input name=\"bih\" value=\"707\" type=\"hidden\"/><input name=\"ie\" value=\"ISO-8859-1\" type=\"hidden\"/><input name=\"tbm\" value=\"isch\" type=\"hidden\"/><input name=\"oq\" type=\"hidden\"/><input name=\"aqs\" type=\"hidden\"/><table class=\"cvifge\"><tr><td class=\"O4cRJf\"><input class=\"MhzMZd\" value=\"white cats\" name=\"q\" type=\"text\"/></td><td class=\"O1ePr\"><input class=\"xB0fq\" value=\"Search\" type=\"submit\"/></td></tr></table></form></div><div class=\"M7pB2\"><table class=\"euZec\"><tbody><tr><td><a class=\"CsQyDc\" href=\"/search?q=white+cats&amp;sca_esv=574851237&amp;rlz=1C1VDKB_enIN1012IN1012&amp;biw=1536&amp;bih=707&amp;ie=UTF-8&amp;source=lnms&amp;sa=X&amp;ved=0ahUKEwioo5nstoKCAxUCwjgGHX4lCtMQ_AUIBCgA\">ALL</a></td><td class=\"EY24We\"><span class=\"QIqI7\">IMAGES</span></td><td><a class=\"CsQyDc\" href=\"/search?q=white+cats&amp;sca_esv=574851237&amp;rlz=1C1VDKB_enIN1012IN1012&amp;biw=1536&amp;bih=707&amp;ie=UTF-8&amp;tbm=vid&amp;source=lnms&amp;sa=X&amp;ved=0ahUKEwioo5nstoKCAxUCwjgGHX4lCtMQ_AUIBigC\">VIDEOS</a></td><td><a class=\"CsQyDc\" href=\"/search?q=white+cats&amp;sca_esv=574851237&amp;rlz=1C1VDKB_enIN1012IN1012&amp;biw=1536&amp;bih=707&amp;ie=UTF-8&amp;tbm=bks&amp;source=lnms&amp;sa=X&amp;ved=0ahUKEwioo5nstoKCAxUCwjgGHX4lCtMQ_AUIBygD\">BOOKS</a></td></tr></tbody></table></div></div><div class=\"X6ZCif\"><a class=\"TwVfHd\" href=\"/search?sca_esv=574851237&amp;rlz=1C1VDKB_enIN1012IN1012&amp;biw=1536&amp;bih=707&amp;ie=UTF-8&amp;tbm=isch&amp;q=white+cats&amp;chips=q:white+cats,g_1:fluffy&amp;sa=X&amp;ved=0ahUKEwioo5nstoKCAxUCwjgGHX4lCtMQ4lYICygA\">fluffy</a><a class=\"TwVfHd\" href=\"/search?sca_esv=574851237&amp;rlz=1C1VDKB_enIN1012IN1012&amp;biw=1536&amp;bih=707&amp;ie=UTF-8&amp;tbm=isch&amp;q=white+cats&amp;chips=q:white+cats,g_1:blue+eyes&amp;sa=X&amp;ved=0ahUKEwioo5nstoKCAxUCwjgGHX4lCtMQ4lYIDCgB\">blue eyes</a><a class=\"TwVfHd\" href=\"/search?sca_esv=574851237&amp;rlz=1C1VDKB_enIN1012IN1012&amp;biw=1536&amp;bih=707&amp;ie=UTF-8&amp;tbm=isch&amp;q=white+cats&amp;chips=q:white+cats,g_1:baby&amp;sa=X&amp;ved=0ahUKEwioo5nstoKCAxUCwjgGHX4lCtMQ4lYIDSgC\">baby</a><a class=\"TwVfHd\" href=\"/search?sca_esv=574851237&amp;rlz=1C1VDKB_enIN1012IN1012&amp;biw=1536&amp;bih=707&amp;ie=UTF-8&amp;tbm=isch&amp;q=white+cats&amp;chips=q:white+cats,g_1:beautiful&amp;sa=X&amp;ved=0ahUKEwioo5nstoKCAxUCwjgGHX4lCtMQ4lYIDigD\">beautiful</a><a class=\"TwVfHd\" href=\"/search?sca_esv=574851237&amp;rlz=1C1VDKB_enIN1012IN1012&amp;biw=1536&amp;bih=707&amp;ie=UTF-8&amp;tbm=isch&amp;q=white+cats&amp;chips=q:white+cats,g_1:wallpaper&amp;sa=X&amp;ved=0ahUKEwioo5nstoKCAxUCwjgGHX4lCtMQ4lYIDygE\">wallpaper</a><a class=\"TwVfHd\" href=\"/search?sca_esv=574851237&amp;rlz=1C1VDKB_enIN1012IN1012&amp;biw=1536&amp;bih=707&amp;ie=UTF-8&amp;tbm=isch&amp;q=white+cats&amp;chips=q:white+cats,g_1:grey&amp;sa=X&amp;ved=0ahUKEwioo5nstoKCAxUCwjgGHX4lCtMQ4lYIECgF\">grey</a><a class=\"TwVfHd\" href=\"/search?sca_esv=574851237&amp;rlz=1C1VDKB_enIN1012IN1012&amp;biw=1536&amp;bih=707&amp;ie=UTF-8&amp;tbm=isch&amp;q=white+cats&amp;chips=q:white+cats,g_1:persian&amp;sa=X&amp;ved=0ahUKEwioo5nstoKCAxUCwjgGHX4lCtMQ4lYIESgG\">persian</a><a class=\"TwVfHd\" href=\"/search?sca_esv=574851237&amp;rlz=1C1VDKB_enIN1012IN1012&amp;biw=1536&amp;bih=707&amp;ie=UTF-8&amp;tbm=isch&amp;q=white+cats&amp;chips=q:white+cats,g_1:anime&amp;sa=X&amp;ved=0ahUKEwioo5nstoKCAxUCwjgGHX4lCtMQ4lYIEigH\">anime</a><a class=\"TwVfHd\" href=\"/search?sca_esv=574851237&amp;rlz=1C1VDKB_enIN1012IN1012&amp;biw=1536&amp;bih=707&amp;ie=UTF-8&amp;tbm=isch&amp;q=white+cats&amp;chips=q:white+cats,g_1:snow&amp;sa=X&amp;ved=0ahUKEwioo5nstoKCAxUCwjgGHX4lCtMQ4lYIEygI\">snow</a><a class=\"TwVfHd\" href=\"/search?sca_esv=574851237&amp;rlz=1C1VDKB_enIN1012IN1012&amp;biw=1536&amp;bih=707&amp;ie=UTF-8&amp;tbm=isch&amp;q=white+cats&amp;chips=q:white+cats,g_1:orange&amp;sa=X&amp;ved=0ahUKEwioo5nstoKCAxUCwjgGHX4lCtMQ4lYIFCgJ\">orange</a></div><div><table class=\"GpQGbf\"><tr><td class=\"e3goi\" align=\"center\"><div class=\"jjVJ4e\"> <div> <div class=\"lIMUZd\"><div><table class=\"RntSmf\"><tr><td><a href=\"/url?q=https://www.thesprucepets.com/white-cats-profile-554698&amp;sa=U&amp;ved=2ahUKEwioo5nstoKCAxUCwjgGHX4lCtMQqoUBegQIBhAB&amp;usg=AOvVaw2bgMO5IR-FXedJ3GtCqaS5\"><div class=\"kCmkOe\"><img class=\"DS1iW\" alt=\"\" src=\"https://encrypted-tbn0.gstatic.com/images?q=tbn:ANd9GcSMmoxmaZghNzlONBz4X5V-ln_cxJYKxEA7QzOux8de3omuJaZYvkBIZAGxDAw&amp;s\"/></div></a></td></tr><tr><td><a href=\"/url?q=https://www.thesprucepets.com/white-cats-profile-554698&amp;sa=U&amp;ved=2ahUKEwioo5nstoKCAxUCwjgGHX4lCtMQr4kDegQIBhAC&amp;usg=AOvVaw0XxjETPm3Xttnrj7nkXzuX\"><div class=\"AlD19d\">  <span class=\"qXLe6d x3G5ab\">  <span class=\"fYyStc\">10 Fun Facts About White...</span>  </span>   <span class=\"qXLe6d F9iS2e\">  <span class=\"fYyStc\">www.thesprucepets.com</span>  </span> </div></a></td></tr></table></div></div> </div> </div></td><td class=\"e3goi\" align=\"center\"><div class=\"jjVJ4e\"> <div> <div class=\"lIMUZd\"><div><table class=\"RntSmf\"><tr><td><a href=\"/url?q=https://www.rover.com/blog/white-cats/&amp;sa=U&amp;ved=2ahUKEwioo5nstoKCAxUCwjgGHX4lCtMQqoUBegQIExAB&amp;usg=AOvVaw3SO2o5yRH_bCxwvusClyc1\"><div class=\"kCmkOe\"><img class=\"DS1iW\" alt=\"\" src=\"https://encrypted-tbn0.gstatic.com/images?q=tbn:ANd9GcRJ4Oc9uEdw7avzKT2cRi4UAC6aU3GaWBJXkUxthd2goNX1fd7PLKyiMgF_j8U&amp;s\"/></div></a></td></tr><tr><td><a href=\"/url?q=https://www.rover.com/blog/white-cats/&amp;sa=U&amp;ved=2ahUKEwioo5nstoKCAxUCwjgGHX4lCtMQr4kDegQIExAC&amp;usg=AOvVaw2dTlff99gH6SPiKTkpop2l\"><div class=\"AlD19d\">  <span class=\"qXLe6d x3G5ab\">  <span class=\"fYyStc\">10 Fun Facts About White...</span>  </span>   <span class=\"qXLe6d F9iS2e\">  <span class=\"fYyStc\">www.rover.com</span>  </span> </div></a></td></tr></table></div></div> </div> </div></td><td class=\"e3goi\" align=\"center\"><div class=\"jjVJ4e\"> <div> <div class=\"lIMUZd\"><div><table class=\"RntSmf\"><tr><td><a href=\"/url?q=https://en.wikipedia.org/wiki/Khao_Manee&amp;sa=U&amp;ved=2ahUKEwioo5nstoKCAxUCwjgGHX4lCtMQqoUBegQIEhAB&amp;usg=AOvVaw1gLUC6qK7VNg7m24-Ld2Yv\"><div class=\"kCmkOe\"><img class=\"DS1iW\" alt=\"\" src=\"https://encrypted-tbn0.gstatic.com/images?q=tbn:ANd9GcRvTA2O_8nUEMdDzc7GuoeQhWi5NoRx8RWOuzPP4GeFFTagAfs0hUHNgX-27II&amp;s\"/></div></a></td></tr><tr><td><a href=\"/url?q=https://en.wikipedia.org/wiki/Khao_Manee&amp;sa=U&amp;ved=2ahUKEwioo5nstoKCAxUCwjgGHX4lCtMQr4kDegQIEhAC&amp;usg=AOvVaw3p0xtKbFTPtKDAblWzD7Po\"><div class=\"AlD19d\">  <span class=\"qXLe6d x3G5ab\">  <span class=\"fYyStc\">Khao Manee - Wikipedia</span>  </span>   <span class=\"qXLe6d F9iS2e\">  <span class=\"fYyStc\">en.wikipedia.org</span>  </span> </div></a></td></tr></table></div></div> </div> </div></td><td class=\"e3goi\" align=\"center\"><div class=\"jjVJ4e\"> <div> <div class=\"lIMUZd\"><div><table class=\"RntSmf\"><tr><td><a href=\"/url?q=https://www.thesprucepets.com/white-cats-profile-554698&amp;sa=U&amp;ved=2ahUKEwioo5nstoKCAxUCwjgGHX4lCtMQqoUBegQIERAB&amp;usg=AOvVaw1fw4aCRskwLmq6GsSyozsc\"><div class=\"kCmkOe\"><img class=\"DS1iW\" alt=\"\" src=\"https://encrypted-tbn0.gstatic.com/images?q=tbn:ANd9GcSphIpQx79O_YOl_8I7DtIjCE9aJJk9xEsViqEp2kjxn7QPodZeNqTLfYjjfA&amp;s\"/></div></a></td></tr><tr><td><a href=\"/url?q=https://www.thesprucepets.com/white-cats-profile-554698&amp;sa=U&amp;ved=2ahUKEwioo5nstoKCAxUCwjgGHX4lCtMQr4kDegQIERAC&amp;usg=AOvVaw25x1CehWmvLKKYflRoI025\"><div class=\"AlD19d\">  <span class=\"qXLe6d x3G5ab\">  <span class=\"fYyStc\">10 Fun Facts About White...</span>  </span>   <span class=\"qXLe6d F9iS2e\">  <span class=\"fYyStc\">www.thesprucepets.com</span>  </span> </div></a></td></tr></table></div></div> </div> </div></td></tr><tr><td class=\"e3goi\" align=\"center\"><div class=\"jjVJ4e\"> <div> <div class=\"lIMUZd\"><div><table class=\"RntSmf\"><tr><td><a href=\"/url?q=https://www.dailypaws.com/living-with-pets/pet-compatibility/white-cat-breeds&amp;sa=U&amp;ved=2ahUKEwioo5nstoKCAxUCwjgGHX4lCtMQqoUBegQICxAB&amp;usg=AOvVaw107BgqdR7bdb1_lnEZKBZn\"><div class=\"kCmkOe\"><img class=\"DS1iW\" alt=\"\" src=\"https://encrypted-tbn0.gstatic.com/images?q=tbn:ANd9GcR3o_XTwisS2GrbHmbfE-FET52NGUGkRaCLZPSYtzhhwJvxT6bINeJlYnTqzQ&amp;s\"/></div></a></td></tr><tr><td><a href=\"/url?q=https://www.dailypaws.com/living-with-pets/pet-compatibility/white-cat-breeds&amp;sa=U&amp;ved=2ahUKEwioo5nstoKCAxUCwjgGHX4lCtMQr4kDegQICxAC&amp;usg=AOvVaw0FAZhSCSg3zy6uuk6WcOTD\"><div class=\"AlD19d\">  <span class=\"qXLe6d x3G5ab\">  <span class=\"fYyStc\">White Cat Breeds</span>  </span>   <span class=\"qXLe6d F9iS2e\">  <span class=\"fYyStc\">www.dailypaws.com</span>  </span> </div></a></td></tr></table></div></div> </div> </div></td><td class=\"e3goi\" align=\"center\"><div class=\"jjVJ4e\"> <div> <div class=\"lIMUZd\"><div><table class=\"RntSmf\"><tr><td><a href=\"/url?q=https://www.dailypaws.com/living-with-pets/pet-compatibility/white-cat-breeds&amp;sa=U&amp;ved=2ahUKEwioo5nstoKCAxUCwjgGHX4lCtMQqoUBegQIDRAB&amp;usg=AOvVaw03gz8KHflBXpXoxeplaNtK\"><div class=\"kCmkOe\"><img class=\"DS1iW\" alt=\"\" src=\"https://encrypted-tbn0.gstatic.com/images?q=tbn:ANd9GcTZxr0APvM0p1qgy2lVhdgm2ODvzyvxYLNG34h9xA8TBBAxMcyUpD_oBNpV&amp;s\"/></div></a></td></tr><tr><td><a href=\"/url?q=https://www.dailypaws.com/living-with-pets/pet-compatibility/white-cat-breeds&amp;sa=U&amp;ved=2ahUKEwioo5nstoKCAxUCwjgGHX4lCtMQr4kDegQIDRAC&amp;usg=AOvVaw0aE-g4VWn1bBVOsBkfUBlq\"><div class=\"AlD19d\">  <span class=\"qXLe6d x3G5ab\">  <span class=\"fYyStc\">white-turkish-angora-cat-...</span>  </span>   <span class=\"qXLe6d F9iS2e\">  <span class=\"fYyStc\">www.dailypaws.com</span>  </span> </div></a></td></tr></table></div></div> </div> </div></td><td class=\"e3goi\" align=\"center\"><div class=\"jjVJ4e\"> <div> <div class=\"lIMUZd\"><div><table class=\"RntSmf\"><tr><td><a href=\"/url?q=https://www.thesprucepets.com/white-cats-profile-554698&amp;sa=U&amp;ved=2ahUKEwioo5nstoKCAxUCwjgGHX4lCtMQqoUBegQIDhAB&amp;usg=AOvVaw2NSv6WqJuM2DXCn3V0VH4h\"><div class=\"kCmkOe\"><img class=\"DS1iW\" alt=\"\" src=\"https://encrypted-tbn0.gstatic.com/images?q=tbn:ANd9GcQjawjOaDSbUxiU967vlmdpWGmvgkpBE9Kbc6DmEMgwh32BUu4aCzSYWs3dvg&amp;s\"/></div></a></td></tr><tr><td><a href=\"/url?q=https://www.thesprucepets.com/white-cats-profile-554698&amp;sa=U&amp;ved=2ahUKEwioo5nstoKCAxUCwjgGHX4lCtMQr4kDegQIDhAC&amp;usg=AOvVaw1oQYdwjCozh7_W1de0EBka\"><div class=\"AlD19d\">  <span class=\"qXLe6d x3G5ab\">  <span class=\"fYyStc\">10 Fun Facts About White...</span>  </span>   <span class=\"qXLe6d F9iS2e\">  <span class=\"fYyStc\">www.thesprucepets.com</span>  </span> </div></a></td></tr></table></div></div> </div> </div></td><td class=\"e3goi\" align=\"center\"><div class=\"jjVJ4e\"> <div> <div class=\"lIMUZd\"><div><table class=\"RntSmf\"><tr><td><a href=\"/url?q=https://catastic.pet/cat-breeds/9-interesting-facts-about-white-cats/&amp;sa=U&amp;ved=2ahUKEwioo5nstoKCAxUCwjgGHX4lCtMQqoUBegQIChAB&amp;usg=AOvVaw0Q0ZC_uzCGfAE9MNbhNduN\"><div class=\"kCmkOe\"><img class=\"DS1iW\" alt=\"\" src=\"https://encrypted-tbn0.gstatic.com/images?q=tbn:ANd9GcT-KwbGb3UvmkIEAStzkQA9AKSrx03ptL4vgJfMdX-0LsdthhfgLwKzgx-Zsw&amp;s\"/></div></a></td></tr><tr><td><a href=\"/url?q=https://catastic.pet/cat-breeds/9-interesting-facts-about-white-cats/&amp;sa=U&amp;ved=2ahUKEwioo5nstoKCAxUCwjgGHX4lCtMQr4kDegQIChAC&amp;usg=AOvVaw1a5KtC0qJ5zifiRZC0kYhe\"><div class=\"AlD19d\">  <span class=\"qXLe6d x3G5ab\">  <span class=\"fYyStc\">9 Interesting Facts About...</span>  </span>   <span class=\"qXLe6d F9iS2e\">  <span class=\"fYyStc\">catastic.pet</span>  </span> </div></a></td></tr></table></div></div> </div> </div></td></tr><tr><td class=\"e3goi\" align=\"center\"><div class=\"jjVJ4e\"> <div> <div class=\"lIMUZd\"><div><table class=\"RntSmf\"><tr><td><a href=\"/url?q=https://www.purina-arabia.com/find-a-pet/articles/cat-types/fur-type/white-cat&amp;sa=U&amp;ved=2ahUKEwioo5nstoKCAxUCwjgGHX4lCtMQqoUBegQICRAB&amp;usg=AOvVaw3yeY4liIRBQCipCRiGwYoX\"><div class=\"kCmkOe\"><img class=\"DS1iW\" alt=\"\" src=\"https://encrypted-tbn0.gstatic.com/images?q=tbn:ANd9GcS08L3HsODtI4_C8aNXS6_SoZlIemsc8SvUbeesZWSZS6aKDe2X0Swegg3kbg&amp;s\"/></div></a></td></tr><tr><td><a href=\"/url?q=https://www.purina-arabia.com/find-a-pet/articles/cat-types/fur-type/white-cat&amp;sa=U&amp;ved=2ahUKEwioo5nstoKCAxUCwjgGHX4lCtMQr4kDegQICRAC&amp;usg=AOvVaw3QvSv4AbHYWSREECry_vF-\"><div class=\"AlD19d\">  <span class=\"qXLe6d x3G5ab\">  <span class=\"fYyStc\">Gorgeous White Cat Breeds...</span>  </span>   <span class=\"qXLe6d F9iS2e\">  <span class=\"fYyStc\">www.purina-arabia.com</span>  </span> </div></a></td></tr></table></div></div> </div> </div></td><td class=\"e3goi\" align=\"center\"><div class=\"jjVJ4e\"> <div> <div class=\"lIMUZd\"><div><table class=\"RntSmf\"><tr><td><a href=\"/url?q=https://www.thesprucepets.com/white-cats-profile-554698&amp;sa=U&amp;ved=2ahUKEwioo5nstoKCAxUCwjgGHX4lCtMQqoUBegQIEBAB&amp;usg=AOvVaw3AWLDJylBNfIFxEN_bPwMN\"><div class=\"kCmkOe\"><img class=\"DS1iW\" alt=\"\" src=\"https://encrypted-tbn0.gstatic.com/images?q=tbn:ANd9GcRHhvHZe6FK-Lc_J12z9gkaGftvsHV6hmipU3Kew26RWYgom8KZsIBBRFX-SA&amp;s\"/></div></a></td></tr><tr><td><a href=\"/url?q=https://www.thesprucepets.com/white-cats-profile-554698&amp;sa=U&amp;ved=2ahUKEwioo5nstoKCAxUCwjgGHX4lCtMQr4kDegQIEBAC&amp;usg=AOvVaw0YU8N9NwpspWe2CJRFOSHd\"><div class=\"AlD19d\">  <span class=\"qXLe6d x3G5ab\">  <span class=\"fYyStc\">10 Fun Facts About White...</span>  </span>   <span class=\"qXLe6d F9iS2e\">  <span class=\"fYyStc\">www.thesprucepets.com</span>  </span> </div></a></td></tr></table></div></div> </div> </div></td><td class=\"e3goi\" align=\"center\"><div class=\"jjVJ4e\"> <div> <div class=\"lIMUZd\"><div><table class=\"RntSmf\"><tr><td><a href=\"/url?q=https://a-z-animals.com/blog/types-of-white-cats/&amp;sa=U&amp;ved=2ahUKEwioo5nstoKCAxUCwjgGHX4lCtMQqoUBegQIDBAB&amp;usg=AOvVaw3ijQkvwcilEbSvegsvfR0c\"><div class=\"kCmkOe\"><img class=\"DS1iW\" alt=\"\" src=\"https://encrypted-tbn0.gstatic.com/images?q=tbn:ANd9GcRDkpCY1GrCgQXuXWHTeiyKC8EvrYHUI9J75GU1Qf0avxdyuf1Vy3UMCKYuYA&amp;s\"/></div></a></td></tr><tr><td><a href=\"/url?q=https://a-z-animals.com/blog/types-of-white-cats/&amp;sa=U&amp;ved=2ahUKEwioo5nstoKCAxUCwjgGHX4lCtMQr4kDegQIDBAC&amp;usg=AOvVaw1F-9evKs9jnB453b8iYZ44\"><div class=\"AlD19d\">  <span class=\"qXLe6d x3G5ab\">  <span class=\"fYyStc\">15 Types of White Cats - AZ...</span>  </span>   <span class=\"qXLe6d F9iS2e\">  <span class=\"fYyStc\">a-z-animals.com</span>  </span> </div></a></td></tr></table></div></div> </div> </div></td><td class=\"e3goi\" align=\"center\"><div class=\"jjVJ4e\"> <div> <div class=\"lIMUZd\"><div><table class=\"RntSmf\"><tr><td><a href=\"/url?q=https://petkeen.com/white-cat-breeds/&amp;sa=U&amp;ved=2ahUKEwioo5nstoKCAxUCwjgGHX4lCtMQqoUBegQIDxAB&amp;usg=AOvVaw3_DoNT7LQJTzdZMnUdbe7t\"><div class=\"kCmkOe\"><img class=\"DS1iW\" alt=\"\" src=\"https://encrypted-tbn0.gstatic.com/images?q=tbn:ANd9GcR99pt2myJmB3_M-lddlXqdPMpIZJl-p2J_U9W3YlCo2cAi5Z_Tg8rUljNQw10&amp;s\"/></div></a></td></tr><tr><td><a href=\"/url?q=https://petkeen.com/white-cat-breeds/&amp;sa=U&amp;ved=2ahUKEwioo5nstoKCAxUCwjgGHX4lCtMQr4kDegQIDxAC&amp;usg=AOvVaw3KPOSuhwdVgVhzx9XwQ9rz\"><div class=\"AlD19d\">  <span class=\"qXLe6d x3G5ab\">  <span class=\"fYyStc\">22 White Cat Breeds:...</span>  </span>   <span class=\"qXLe6d F9iS2e\">  <span class=\"fYyStc\">petkeen.com</span>  </span> </div></a></td></tr></table></div></div> </div> </div></td></tr><tr><td class=\"e3goi\" align=\"center\"><div class=\"jjVJ4e\"> <div> <div class=\"lIMUZd\"><div><table class=\"RntSmf\"><tr><td><a href=\"/url?q=https://unsplash.com/s/photos/white-cats&amp;sa=U&amp;ved=2ahUKEwioo5nstoKCAxUCwjgGHX4lCtMQqoUBegQIBRAB&amp;usg=AOvVaw1UocJXMf03J6akWX_oF4WI\"><div class=\"kCmkOe\"><img class=\"DS1iW\" alt=\"\" src=\"https://encrypted-tbn0.gstatic.com/images?q=tbn:ANd9GcRs--QZnrL3c7_-s118SlMjYHSjzFgygpQutPsu1bSnpqSCgD_u9oQWkFzvDA&amp;s\"/></div></a></td></tr><tr><td><a href=\"/url?q=https://unsplash.com/s/photos/white-cats&amp;sa=U&amp;ved=2ahUKEwioo5nstoKCAxUCwjgGHX4lCtMQr4kDegQIBRAC&amp;usg=AOvVaw3KDhJXtKgvOPhr-2s-ezud\"><div class=\"AlD19d\">  <span class=\"qXLe6d x3G5ab\">  <span class=\"fYyStc\">White Cats Pictures |...</span>  </span>   <span class=\"qXLe6d F9iS2e\">  <span class=\"fYyStc\">unsplash.com</span>  </span> </div></a></td></tr></table></div></div> </div> </div></td><td class=\"e3goi\" align=\"center\"><div class=\"jjVJ4e\"> <div> <div class=\"lIMUZd\"><div><table class=\"RntSmf\"><tr><td><a href=\"/url?q=https://cats.com/white-cat-breeds&amp;sa=U&amp;ved=2ahUKEwioo5nstoKCAxUCwjgGHX4lCtMQqoUBegQIABAB&amp;usg=AOvVaw2sO_I1UUnBkmj04zaknH8X\"><div class=\"kCmkOe\"><img class=\"DS1iW\" alt=\"\" src=\"https://encrypted-tbn0.gstatic.com/images?q=tbn:ANd9GcTwRJbqFzQzKGB1jiCTakksfWkrDTa6Nexg80Re1Z7uVr2v-S_iPYjVlEiuV7M&amp;s\"/></div></a></td></tr><tr><td><a href=\"/url?q=https://cats.com/white-cat-breeds&amp;sa=U&amp;ved=2ahUKEwioo5nstoKCAxUCwjgGHX4lCtMQr4kDegQIABAC&amp;usg=AOvVaw02rxRRnys6UPONvFT2xdov\"><div class=\"AlD19d\">  <span class=\"qXLe6d x3G5ab\">  <span class=\"fYyStc\">14 Beautiful White Cat...</span>  </span>   <span class=\"qXLe6d F9iS2e\">  <span class=\"fYyStc\">cats.com</span>  </span> </div></a></td></tr></table></div></div> </div> </div></td><td class=\"e3goi\" align=\"center\"><div class=\"jjVJ4e\"> <div> <div class=\"lIMUZd\"><div><table class=\"RntSmf\"><tr><td><a href=\"/url?q=https://www.feliway.co.uk/blogs/news/white-cats-5-things-to-know&amp;sa=U&amp;ved=2ahUKEwioo5nstoKCAxUCwjgGHX4lCtMQqoUBegQIARAB&amp;usg=AOvVaw2tO0P3W2rgnO95lDJuDfMy\"><div class=\"kCmkOe\"><img class=\"DS1iW\" alt=\"\" src=\"https://encrypted-tbn0.gstatic.com/images?q=tbn:ANd9GcRTgVZFBcLYSkgVLBEqHnkBjP67YYbtMSbC5RF5DNyrcErIrlO7uyDAnG5iLw&amp;s\"/></div></a></td></tr><tr><td><a href=\"/url?q=https://www.feliway.co.uk/blogs/news/white-cats-5-things-to-know&amp;sa=U&amp;ved=2ahUKEwioo5nstoKCAxUCwjgGHX4lCtMQr4kDegQIARAC&amp;usg=AOvVaw1qBQVFkStjlelns9gONfXd\"><div class=\"AlD19d\">  <span class=\"qXLe6d x3G5ab\">  <span class=\"fYyStc\">White Cats &#8211; 5 Things to...</span>  </span>   <span class=\"qXLe6d F9iS2e\">  <span class=\"fYyStc\">www.feliway.co.uk</span>  </span> </div></a></td></tr></table></div></div> </div> </div></td><td class=\"e3goi\" align=\"center\"><div class=\"jjVJ4e\"> <div> <div class=\"lIMUZd\"><div><table class=\"RntSmf\"><tr><td><a href=\"/url?q=https://blog.ferplast.com/en/white-cats-and-the-sun-what-precautions-to-take/&amp;sa=U&amp;ved=2ahUKEwioo5nstoKCAxUCwjgGHX4lCtMQqoUBegQIBxAB&amp;usg=AOvVaw0ByPRV79kAz92zMGp3vNo2\"><div class=\"kCmkOe\"><img class=\"DS1iW\" alt=\"\" src=\"https://encrypted-tbn0.gstatic.com/images?q=tbn:ANd9GcQzZOj95F-qkKsAEIIJ1DcuJFctFyyByfDlMSzJMiTkGsqwaRaz-iTWhrRDJg&amp;s\"/></div></a></td></tr><tr><td><a href=\"/url?q=https://blog.ferplast.com/en/white-cats-and-the-sun-what-precautions-to-take/&amp;sa=U&amp;ved=2ahUKEwioo5nstoKCAxUCwjgGHX4lCtMQr4kDegQIBxAC&amp;usg=AOvVaw2Bfk8NqqFBF9i_dzCeSGwV\"><div class=\"AlD19d\">  <span class=\"qXLe6d x3G5ab\">  <span class=\"fYyStc\">White Cats And The Sun&#8230;...</span>  </span>   <span class=\"qXLe6d F9iS2e\">  <span class=\"fYyStc\">blog.ferplast.com</span>  </span> </div></a></td></tr></table></div></div> </div> </div></td></tr><tr><td class=\"e3goi\" align=\"center\"><div class=\"jjVJ4e\"> <div> <div class=\"lIMUZd\"><div><table class=\"RntSmf\"><tr><td><a href=\"/url?q=https://thelittlecarnivore.com/en/blog/cat-coat-white-cats-deaf-white-spotting&amp;sa=U&amp;ved=2ahUKEwioo5nstoKCAxUCwjgGHX4lCtMQqoUBegQICBAB&amp;usg=AOvVaw1c_nZODFqgm_CqzKsaCvl8\"><div class=\"kCmkOe\"><img class=\"DS1iW\" alt=\"\" src=\"https://encrypted-tbn0.gstatic.com/images?q=tbn:ANd9GcQ_EtwV0pzPPs6N0wQT6ZABB0oxoz7Jo06jv7bFpj815alO4HZAfSVLxN2Wqw&amp;s\"/></div></a></td></tr><tr><td><a href=\"/url?q=https://thelittlecarnivore.com/en/blog/cat-coat-white-cats-deaf-white-spotting&amp;sa=U&amp;ved=2ahUKEwioo5nstoKCAxUCwjgGHX4lCtMQr4kDegQICBAC&amp;usg=AOvVaw1kQEiDnUaTZpkVMwUixnWz\"><div class=\"AlD19d\">  <span class=\"qXLe6d x3G5ab\">  <span class=\"fYyStc\">Cat coat: white cats and...</span>  </span>   <span class=\"qXLe6d F9iS2e\">  <span class=\"fYyStc\">thelittlecarnivore.com</span>  </span> </div></a></td></tr></table></div></div> </div> </div></td><td class=\"e3goi\" align=\"center\"><div class=\"jjVJ4e\"> <div> <div class=\"lIMUZd\"><div><table class=\"RntSmf\"><tr><td><a href=\"/url?q=https://www.dailypaws.com/living-with-pets/pet-compatibility/white-cat-breeds&amp;sa=U&amp;ved=2ahUKEwioo5nstoKCAxUCwjgGHX4lCtMQqoUBegQIAhAB&amp;usg=AOvVaw1lNgcl47xS4uKRvhxKu_J3\"><div class=\"kCmkOe\"><img class=\"DS1iW\" alt=\"\" src=\"https://encrypted-tbn0.gstatic.com/images?q=tbn:ANd9GcRygMxYb7elRZNEUDo7sc3H7z7xxm0ehSNe08ObMEETu67PQRbH5rtVsSJInA&amp;s\"/></div></a></td></tr><tr><td><a href=\"/url?q=https://www.dailypaws.com/living-with-pets/pet-compatibility/white-cat-breeds&amp;sa=U&amp;ved=2ahUKEwioo5nstoKCAxUCwjgGHX4lCtMQr4kDegQIAhAC&amp;usg=AOvVaw28H7gNC1QDyoNoxmH6RFrD\"><div class=\"AlD19d\">  <span class=\"qXLe6d x3G5ab\">  <span class=\"fYyStc\">White Cat Breeds</span>  </span>   <span class=\"qXLe6d F9iS2e\">  <span class=\"fYyStc\">www.dailypaws.com</span>  </span> </div></a></td></tr></table></div></div> </div> </div></td><td class=\"e3goi\" align=\"center\"><div class=\"jjVJ4e\"> <div> <div class=\"lIMUZd\"><div><table class=\"RntSmf\"><tr><td><a href=\"/url?q=https://blog.ferplast.com/en/are-white-cats-deaf/&amp;sa=U&amp;ved=2ahUKEwioo5nstoKCAxUCwjgGHX4lCtMQqoUBegQIBBAB&amp;usg=AOvVaw2pw5m-lKeB_PrwpkDQygJT\"><div class=\"kCmkOe\"><img class=\"DS1iW\" alt=\"\" src=\"https://encrypted-tbn0.gstatic.com/images?q=tbn:ANd9GcQXEXk3je5aDPH9xsQSQkiF09hAe8JtV5j4OuZIjlPIGUCAwKv-T5giYoJVggQ&amp;s\"/></div></a></td></tr><tr><td><a href=\"/url?q=https://blog.ferplast.com/en/are-white-cats-deaf/&amp;sa=U&amp;ved=2ahUKEwioo5nstoKCAxUCwjgGHX4lCtMQr4kDegQIBBAC&amp;usg=AOvVaw0Fprr0u45xDp4gu6MLVnzg\"><div class=\"AlD19d\">  <span class=\"qXLe6d x3G5ab\">  <span class=\"fYyStc\">ARE WHITE CATS DEAF?</span>  </span>   <span class=\"qXLe6d F9iS2e\">  <span class=\"fYyStc\">blog.ferplast.com</span>  </span> </div></a></td></tr></table></div></div> </div> </div></td><td class=\"e3goi\" align=\"center\"><div class=\"jjVJ4e\"> <div> <div class=\"lIMUZd\"><div><table class=\"RntSmf\"><tr><td><a href=\"/url?q=https://www.animalwised.com/caring-for-a-white-cat-not-albino-1269.html&amp;sa=U&amp;ved=2ahUKEwioo5nstoKCAxUCwjgGHX4lCtMQqoUBegQIAxAB&amp;usg=AOvVaw2GFrdNwuy8-ENtj6j1Sy1D\"><div class=\"kCmkOe\"><img class=\"DS1iW\" alt=\"\" src=\"https://encrypted-tbn0.gstatic.com/images?q=tbn:ANd9GcRtFFu2NwBqi178YAnRhymbfrC1KZXY0epzAXlDPcHFD4QXbKiiOrexEVDOxO0&amp;s\"/></div></a></td></tr><tr><td><a href=\"/url?q=https://www.animalwised.com/caring-for-a-white-cat-not-albino-1269.html&amp;sa=U&amp;ved=2ahUKEwioo5nstoKCAxUCwjgGHX4lCtMQr4kDegQIAxAC&amp;usg=AOvVaw3J64zbJ_bCDyKevakxMhQa\"><div class=\"AlD19d\">  <span class=\"qXLe6d x3G5ab\">  <span class=\"fYyStc\">Caring For a White Cat -...</span>  </span>   <span class=\"qXLe6d F9iS2e\">  <span class=\"fYyStc\">www.animalwised.com</span>  </span> </div></a></td></tr></table></div></div> </div> </div></td></tr></table></div><table class=\"uZgmoc\"><tbody><td><a class=\"frGj1b\" href=\"/search?q=white+cats&amp;sca_esv=574851237&amp;rlz=1C1VDKB_enIN1012IN1012&amp;biw=1536&amp;bih=707&amp;ie=UTF-8&amp;tbm=isch&amp;ei=c0sxZeidC4KE4-EP_sqomA0&amp;start=20&amp;sa=N\">Next&nbsp;&gt;</a></td></tbody></table><br/><div class=\"TuS8Ad\" data-ved=\"0ahUKEwioo5nstoKCAxUCwjgGHX4lCtMQpyoIUg\"><style>.VYM29{font-weight:bold}</style><div class=\"HddGcc\" align=\"center\"><span class=\"VYM29\">Patna, Bihar</span><span>&nbsp;-&nbsp;</span><span>From your IP address</span><span>&nbsp;-&nbsp;</span><a href=\"/url?q=https://support.google.com/websearch%3Fp%3Dws_settings_location%26hl%3Den-IN&amp;opi=89978449&amp;sa=U&amp;ved=0ahUKEwioo5nstoKCAxUCwjgGHX4lCtMQty4IUw&amp;usg=AOvVaw1pZuCpmtdvnqrby-svV6bt\">Learn more</a></div><div align=\"center\"><a class=\"rEM8G\" href=\"/url?q=https://accounts.google.com/ServiceLogin%3Fcontinue%3Dhttps://www.google.com/search%253Fq%253Dwhite%252Bcats%2526sca_esv%253D574851237%2526rlz%253D1C1VDKB_enIN1012IN1012%2526tbm%253Disch%2526sxsrf%253DAM9HkKloDZRIYDjOhiawuIlxLecaEWVh_w:1697726507175%2526source%253Dlnms%2526sa%253DX%2526ved%253D2ahUKEwif7IqLrIKCAxVW1DgGHbYoAOEQ_AUoAXoECAIQAw%2526biw%253D1536%2526bih%253D707%2526dpr%253D1.25%26hl%3Den&amp;opi=89978449&amp;sa=U&amp;ved=0ahUKEwioo5nstoKCAxUCwjgGHX4lCtMQxs8CCFQ&amp;usg=AOvVaw0-IArw2yp3rZda_DbYhVts\">Sign in</a></div><div><table class=\"bookcf\"><tbody class=\"InWNIe\"><tr><td><a class=\"rEM8G\" href=\"https://www.google.com/preferences?hl=en&amp;sa=X&amp;ved=0ahUKEwioo5nstoKCAxUCwjgGHX4lCtMQv5YECFU\">Settings</a></td><td><a class=\"rEM8G\" href=\"https://www.google.com/intl/en_in/policies/privacy/\">Privacy</a></td><td><a class=\"rEM8G\" href=\"https://www.google.com/intl/en_in/policies/terms/\">Terms</a></td></tr></tbody></table></div></div><div>  </div></body></html>'"
      ]
     },
     "execution_count": 23,
     "metadata": {},
     "output_type": "execute_result"
    }
   ],
   "source": [
    "search.content"
   ]
  },
  {
   "cell_type": "code",
   "execution_count": 24,
   "id": "22cdfebb-39d7-48e1-beda-c66ed40b8d54",
   "metadata": {},
   "outputs": [
    {
     "data": {
      "text/plain": [
       "<!DOCTYPE html PUBLIC \"-//WAPFORUM//DTD XHTML Mobile 1.0//EN\" \"http://www.wapforum.org/DTD/xhtml-mobile10.dtd\">\n",
       "<html lang=\"en-IN\" xmlns=\"http://www.w3.org/1999/xhtml\"><head><meta content=\"application/xhtml+xml; charset=utf-8\" http-equiv=\"Content-Type\"/><meta content=\"no-cache\" name=\"Cache-Control\"/><title>white cats - Google Search</title><style>a{text-decoration:none;color:inherit}a:hover{text-decoration:underline}a img{border:0}body{font-family:arial,sans-serif;padding:8px;margin:0 auto;max-width:700px;min-width:240px;}.FbhRzb{border-left:thin solid #dadce0;border-right:thin solid #dadce0;border-top:thin solid #dadce0;height:40px;overflow:hidden}.n692Zd{margin-bottom:10px}.cvifge{height:40px;border-spacing:0}.QvGUP{height:40px;padding:0 8px 0 8px;vertical-align:top}.O4cRJf{height:40px;width:100%;padding:0;padding-right:16px}.O1ePr{height:40px;padding:0;vertical-align:top}.kgJEQe{height:36px;width:98px;vertical-align:top;margin-top:4px}.lXLRf{vertical-align:top}.MhzMZd{border:0;vertical-align:middle;font-size:14px;height:40px;padding:0;width:100%;padding-left:16px}.xB0fq{height:40px;border:none;font-size:14px;background-color:#1a73e8;color:#fff;padding:0 16px;margin:0;vertical-align:top;cursor:pointer}.xB0fq:focus{border:1px solid #1a73e8}.M7pB2{border:thin solid #dadce0;margin:0 0 3px 0;font-size:13px;font-weight:500;height:40px}.euZec{width:100%;height:40px;text-align:center;border-spacing:0}table.euZec td{padding:0;width:25%}.QIqI7{display:inline-block;padding-top:4px;font-weight:bold;color:#4285f4}.EY24We{border-bottom:2px solid #4285f4}.CsQyDc{display:inline-block;color:#70757a}.TuS8Ad{font-size:14px}.HddGcc{padding:8px;color:#70757a}.dzp8ae{font-weight:bold;color:#3c4043}.rEM8G{color:#70757a}.bookcf{table-layout:fixed;width:100%;border-spacing:0}.InWNIe{text-align:center}.uZgmoc{border:thin solid #dadce0;color:#70757a;font-size:14px;text-align:center;table-layout:fixed;width:100%}.frGj1b{display:block;padding:12px 0 12px 0;width:100%}.BnJWBc{text-align:center;padding:6px 0 13px 0;height:35px}.e3goi{vertical-align:top;padding:0;height:180px}.GpQGbf{margin:auto;border-collapse:collapse;border-spacing:0;width:100%}</style></head><body><style>.X6ZCif{color:#202124;font-size:11px;line-height:16px;display:inline-block;padding-top:2px;overflow:hidden;padding-bottom:4px;width:100%}.TwVfHd{border-radius:16px;border:thin solid #dadce0;display:inline-block;padding:8px 8px;margin-right:8px;margin-bottom:4px}.yekiAe{background-color:#dadce0}.jjVJ4e{width:100%}.ezO2md{border:thin solid #dadce0;padding:12px 16px 12px 16px;margin-bottom:10px;font-family:arial,sans-serif}.lIMUZd{font-family:arial,sans-serif}.RntSmf{border-spacing:0}.lgD2Tc{width:100%}.SpelHe{text-align:center}.SpelHe{position:relative}.deHqpb{bottom:0;left:0;margin:auto;position:absolute;right:0;top:0}.kCmkOe{position:relative}.ID6Z3b{background-image:url(https://www.gstatic.com/search_trustx/visibility_off_icon_p0-7d897bf44bafe5436baa9009e8716337.png);background-repeat:no-repeat;background-position:center;background-size:20px}.kCmkOe{width:162px;height:140px;line-height:140px;overflow:'hidden';text-align:center}.DS1iW{text-align:center;margin:auto;vertical-align:middle;max-width:162px;max-height:140px}.AlD19d{padding-top:2px;padding-bottom:8px;}.fYyStc{word-break:break-word}.ynsChf{display:block;white-space:nowrap;overflow:hidden;text-overflow:ellipsis}.Fj3V3b{color:#1967d2;font-size:14px;line-height:20px}.FrIlee{color:#202124;font-size:11px;line-height:16px}.F9iS2e{color:#70757a;font-size:11px;line-height:16px}.WMQ2Le{color:#70757a;font-size:12px;line-height:16px}.x3G5ab{color:#202124;font-size:12px;line-height:16px}.fuLhoc{color:#1967d2;font-size:16px;line-height:20px}.epoveb{font-size:24px;line-height:28px;font-weight:400;color:#202124}.dXDvrc{color:#0d652d;font-size:14px;line-height:20px;word-wrap:break-word}.dloBPe{font-weight:bold}.YVIcad{color:#70757a}.JkVVdd{color:#ea4335}.oXZRFd{color:#ea4335}.MQHtg{color:#fbbc04}.pyMRrb{color:#1e8e3e}.EtTZid{color:#1e8e3e}.M3vVJe{color:#1967d2}.qXLe6d{display:block}.NHQNef{font-style:italic}.Cb8Z7c{white-space:pre}a.ZWRArf{text-decoration:none}a .CVA68e:hover{text-decoration:underline}</style><div class=\"n692Zd\"><div class=\"BnJWBc\"><a class=\"lXLRf\" href=\"/?sa=X&amp;sca_esv=574851237&amp;rlz=1C1VDKB_enIN1012IN1012&amp;biw=1536&amp;bih=707&amp;output=images&amp;ie=UTF-8&amp;tbm=isch&amp;ved=0ahUKEwioo5nstoKCAxUCwjgGHX4lCtMQPAgC\"><img alt=\"Google\" class=\"kgJEQe\" src=\"/images/branding/searchlogo/1x/googlelogo_desk_heirloom_color_150x55dp.gif\"/></a></div><div class=\"FbhRzb\"><form action=\"/search\"><input name=\"sca_esv\" type=\"hidden\" value=\"574851237\"/><input name=\"rlz\" type=\"hidden\" value=\"1C1VDKB_enIN1012IN1012\"/><input name=\"biw\" type=\"hidden\" value=\"1536\"/><input name=\"bih\" type=\"hidden\" value=\"707\"/><input name=\"ie\" type=\"hidden\" value=\"ISO-8859-1\"/><input name=\"tbm\" type=\"hidden\" value=\"isch\"/><input name=\"oq\" type=\"hidden\"/><input name=\"aqs\" type=\"hidden\"/><table class=\"cvifge\"><tr><td class=\"O4cRJf\"><input class=\"MhzMZd\" name=\"q\" type=\"text\" value=\"white cats\"/></td><td class=\"O1ePr\"><input class=\"xB0fq\" type=\"submit\" value=\"Search\"/></td></tr></table></form></div><div class=\"M7pB2\"><table class=\"euZec\"><tbody><tr><td><a class=\"CsQyDc\" href=\"/search?q=white+cats&amp;sca_esv=574851237&amp;rlz=1C1VDKB_enIN1012IN1012&amp;biw=1536&amp;bih=707&amp;ie=UTF-8&amp;source=lnms&amp;sa=X&amp;ved=0ahUKEwioo5nstoKCAxUCwjgGHX4lCtMQ_AUIBCgA\">ALL</a></td><td class=\"EY24We\"><span class=\"QIqI7\">IMAGES</span></td><td><a class=\"CsQyDc\" href=\"/search?q=white+cats&amp;sca_esv=574851237&amp;rlz=1C1VDKB_enIN1012IN1012&amp;biw=1536&amp;bih=707&amp;ie=UTF-8&amp;tbm=vid&amp;source=lnms&amp;sa=X&amp;ved=0ahUKEwioo5nstoKCAxUCwjgGHX4lCtMQ_AUIBigC\">VIDEOS</a></td><td><a class=\"CsQyDc\" href=\"/search?q=white+cats&amp;sca_esv=574851237&amp;rlz=1C1VDKB_enIN1012IN1012&amp;biw=1536&amp;bih=707&amp;ie=UTF-8&amp;tbm=bks&amp;source=lnms&amp;sa=X&amp;ved=0ahUKEwioo5nstoKCAxUCwjgGHX4lCtMQ_AUIBygD\">BOOKS</a></td></tr></tbody></table></div></div><div class=\"X6ZCif\"><a class=\"TwVfHd\" href=\"/search?sca_esv=574851237&amp;rlz=1C1VDKB_enIN1012IN1012&amp;biw=1536&amp;bih=707&amp;ie=UTF-8&amp;tbm=isch&amp;q=white+cats&amp;chips=q:white+cats,g_1:fluffy&amp;sa=X&amp;ved=0ahUKEwioo5nstoKCAxUCwjgGHX4lCtMQ4lYICygA\">fluffy</a><a class=\"TwVfHd\" href=\"/search?sca_esv=574851237&amp;rlz=1C1VDKB_enIN1012IN1012&amp;biw=1536&amp;bih=707&amp;ie=UTF-8&amp;tbm=isch&amp;q=white+cats&amp;chips=q:white+cats,g_1:blue+eyes&amp;sa=X&amp;ved=0ahUKEwioo5nstoKCAxUCwjgGHX4lCtMQ4lYIDCgB\">blue eyes</a><a class=\"TwVfHd\" href=\"/search?sca_esv=574851237&amp;rlz=1C1VDKB_enIN1012IN1012&amp;biw=1536&amp;bih=707&amp;ie=UTF-8&amp;tbm=isch&amp;q=white+cats&amp;chips=q:white+cats,g_1:baby&amp;sa=X&amp;ved=0ahUKEwioo5nstoKCAxUCwjgGHX4lCtMQ4lYIDSgC\">baby</a><a class=\"TwVfHd\" href=\"/search?sca_esv=574851237&amp;rlz=1C1VDKB_enIN1012IN1012&amp;biw=1536&amp;bih=707&amp;ie=UTF-8&amp;tbm=isch&amp;q=white+cats&amp;chips=q:white+cats,g_1:beautiful&amp;sa=X&amp;ved=0ahUKEwioo5nstoKCAxUCwjgGHX4lCtMQ4lYIDigD\">beautiful</a><a class=\"TwVfHd\" href=\"/search?sca_esv=574851237&amp;rlz=1C1VDKB_enIN1012IN1012&amp;biw=1536&amp;bih=707&amp;ie=UTF-8&amp;tbm=isch&amp;q=white+cats&amp;chips=q:white+cats,g_1:wallpaper&amp;sa=X&amp;ved=0ahUKEwioo5nstoKCAxUCwjgGHX4lCtMQ4lYIDygE\">wallpaper</a><a class=\"TwVfHd\" href=\"/search?sca_esv=574851237&amp;rlz=1C1VDKB_enIN1012IN1012&amp;biw=1536&amp;bih=707&amp;ie=UTF-8&amp;tbm=isch&amp;q=white+cats&amp;chips=q:white+cats,g_1:grey&amp;sa=X&amp;ved=0ahUKEwioo5nstoKCAxUCwjgGHX4lCtMQ4lYIECgF\">grey</a><a class=\"TwVfHd\" href=\"/search?sca_esv=574851237&amp;rlz=1C1VDKB_enIN1012IN1012&amp;biw=1536&amp;bih=707&amp;ie=UTF-8&amp;tbm=isch&amp;q=white+cats&amp;chips=q:white+cats,g_1:persian&amp;sa=X&amp;ved=0ahUKEwioo5nstoKCAxUCwjgGHX4lCtMQ4lYIESgG\">persian</a><a class=\"TwVfHd\" href=\"/search?sca_esv=574851237&amp;rlz=1C1VDKB_enIN1012IN1012&amp;biw=1536&amp;bih=707&amp;ie=UTF-8&amp;tbm=isch&amp;q=white+cats&amp;chips=q:white+cats,g_1:anime&amp;sa=X&amp;ved=0ahUKEwioo5nstoKCAxUCwjgGHX4lCtMQ4lYIEigH\">anime</a><a class=\"TwVfHd\" href=\"/search?sca_esv=574851237&amp;rlz=1C1VDKB_enIN1012IN1012&amp;biw=1536&amp;bih=707&amp;ie=UTF-8&amp;tbm=isch&amp;q=white+cats&amp;chips=q:white+cats,g_1:snow&amp;sa=X&amp;ved=0ahUKEwioo5nstoKCAxUCwjgGHX4lCtMQ4lYIEygI\">snow</a><a class=\"TwVfHd\" href=\"/search?sca_esv=574851237&amp;rlz=1C1VDKB_enIN1012IN1012&amp;biw=1536&amp;bih=707&amp;ie=UTF-8&amp;tbm=isch&amp;q=white+cats&amp;chips=q:white+cats,g_1:orange&amp;sa=X&amp;ved=0ahUKEwioo5nstoKCAxUCwjgGHX4lCtMQ4lYIFCgJ\">orange</a></div><div><table class=\"GpQGbf\"><tr><td align=\"center\" class=\"e3goi\"><div class=\"jjVJ4e\"> <div> <div class=\"lIMUZd\"><div><table class=\"RntSmf\"><tr><td><a href=\"/url?q=https://www.thesprucepets.com/white-cats-profile-554698&amp;sa=U&amp;ved=2ahUKEwioo5nstoKCAxUCwjgGHX4lCtMQqoUBegQIBhAB&amp;usg=AOvVaw2bgMO5IR-FXedJ3GtCqaS5\"><div class=\"kCmkOe\"><img alt=\"\" class=\"DS1iW\" src=\"https://encrypted-tbn0.gstatic.com/images?q=tbn:ANd9GcSMmoxmaZghNzlONBz4X5V-ln_cxJYKxEA7QzOux8de3omuJaZYvkBIZAGxDAw&amp;s\"/></div></a></td></tr><tr><td><a href=\"/url?q=https://www.thesprucepets.com/white-cats-profile-554698&amp;sa=U&amp;ved=2ahUKEwioo5nstoKCAxUCwjgGHX4lCtMQr4kDegQIBhAC&amp;usg=AOvVaw0XxjETPm3Xttnrj7nkXzuX\"><div class=\"AlD19d\"> <span class=\"qXLe6d x3G5ab\"> <span class=\"fYyStc\">10 Fun Facts About White...</span> </span> <span class=\"qXLe6d F9iS2e\"> <span class=\"fYyStc\">www.thesprucepets.com</span> </span> </div></a></td></tr></table></div></div> </div> </div></td><td align=\"center\" class=\"e3goi\"><div class=\"jjVJ4e\"> <div> <div class=\"lIMUZd\"><div><table class=\"RntSmf\"><tr><td><a href=\"/url?q=https://www.rover.com/blog/white-cats/&amp;sa=U&amp;ved=2ahUKEwioo5nstoKCAxUCwjgGHX4lCtMQqoUBegQIExAB&amp;usg=AOvVaw3SO2o5yRH_bCxwvusClyc1\"><div class=\"kCmkOe\"><img alt=\"\" class=\"DS1iW\" src=\"https://encrypted-tbn0.gstatic.com/images?q=tbn:ANd9GcRJ4Oc9uEdw7avzKT2cRi4UAC6aU3GaWBJXkUxthd2goNX1fd7PLKyiMgF_j8U&amp;s\"/></div></a></td></tr><tr><td><a href=\"/url?q=https://www.rover.com/blog/white-cats/&amp;sa=U&amp;ved=2ahUKEwioo5nstoKCAxUCwjgGHX4lCtMQr4kDegQIExAC&amp;usg=AOvVaw2dTlff99gH6SPiKTkpop2l\"><div class=\"AlD19d\"> <span class=\"qXLe6d x3G5ab\"> <span class=\"fYyStc\">10 Fun Facts About White...</span> </span> <span class=\"qXLe6d F9iS2e\"> <span class=\"fYyStc\">www.rover.com</span> </span> </div></a></td></tr></table></div></div> </div> </div></td><td align=\"center\" class=\"e3goi\"><div class=\"jjVJ4e\"> <div> <div class=\"lIMUZd\"><div><table class=\"RntSmf\"><tr><td><a href=\"/url?q=https://en.wikipedia.org/wiki/Khao_Manee&amp;sa=U&amp;ved=2ahUKEwioo5nstoKCAxUCwjgGHX4lCtMQqoUBegQIEhAB&amp;usg=AOvVaw1gLUC6qK7VNg7m24-Ld2Yv\"><div class=\"kCmkOe\"><img alt=\"\" class=\"DS1iW\" src=\"https://encrypted-tbn0.gstatic.com/images?q=tbn:ANd9GcRvTA2O_8nUEMdDzc7GuoeQhWi5NoRx8RWOuzPP4GeFFTagAfs0hUHNgX-27II&amp;s\"/></div></a></td></tr><tr><td><a href=\"/url?q=https://en.wikipedia.org/wiki/Khao_Manee&amp;sa=U&amp;ved=2ahUKEwioo5nstoKCAxUCwjgGHX4lCtMQr4kDegQIEhAC&amp;usg=AOvVaw3p0xtKbFTPtKDAblWzD7Po\"><div class=\"AlD19d\"> <span class=\"qXLe6d x3G5ab\"> <span class=\"fYyStc\">Khao Manee - Wikipedia</span> </span> <span class=\"qXLe6d F9iS2e\"> <span class=\"fYyStc\">en.wikipedia.org</span> </span> </div></a></td></tr></table></div></div> </div> </div></td><td align=\"center\" class=\"e3goi\"><div class=\"jjVJ4e\"> <div> <div class=\"lIMUZd\"><div><table class=\"RntSmf\"><tr><td><a href=\"/url?q=https://www.thesprucepets.com/white-cats-profile-554698&amp;sa=U&amp;ved=2ahUKEwioo5nstoKCAxUCwjgGHX4lCtMQqoUBegQIERAB&amp;usg=AOvVaw1fw4aCRskwLmq6GsSyozsc\"><div class=\"kCmkOe\"><img alt=\"\" class=\"DS1iW\" src=\"https://encrypted-tbn0.gstatic.com/images?q=tbn:ANd9GcSphIpQx79O_YOl_8I7DtIjCE9aJJk9xEsViqEp2kjxn7QPodZeNqTLfYjjfA&amp;s\"/></div></a></td></tr><tr><td><a href=\"/url?q=https://www.thesprucepets.com/white-cats-profile-554698&amp;sa=U&amp;ved=2ahUKEwioo5nstoKCAxUCwjgGHX4lCtMQr4kDegQIERAC&amp;usg=AOvVaw25x1CehWmvLKKYflRoI025\"><div class=\"AlD19d\"> <span class=\"qXLe6d x3G5ab\"> <span class=\"fYyStc\">10 Fun Facts About White...</span> </span> <span class=\"qXLe6d F9iS2e\"> <span class=\"fYyStc\">www.thesprucepets.com</span> </span> </div></a></td></tr></table></div></div> </div> </div></td></tr><tr><td align=\"center\" class=\"e3goi\"><div class=\"jjVJ4e\"> <div> <div class=\"lIMUZd\"><div><table class=\"RntSmf\"><tr><td><a href=\"/url?q=https://www.dailypaws.com/living-with-pets/pet-compatibility/white-cat-breeds&amp;sa=U&amp;ved=2ahUKEwioo5nstoKCAxUCwjgGHX4lCtMQqoUBegQICxAB&amp;usg=AOvVaw107BgqdR7bdb1_lnEZKBZn\"><div class=\"kCmkOe\"><img alt=\"\" class=\"DS1iW\" src=\"https://encrypted-tbn0.gstatic.com/images?q=tbn:ANd9GcR3o_XTwisS2GrbHmbfE-FET52NGUGkRaCLZPSYtzhhwJvxT6bINeJlYnTqzQ&amp;s\"/></div></a></td></tr><tr><td><a href=\"/url?q=https://www.dailypaws.com/living-with-pets/pet-compatibility/white-cat-breeds&amp;sa=U&amp;ved=2ahUKEwioo5nstoKCAxUCwjgGHX4lCtMQr4kDegQICxAC&amp;usg=AOvVaw0FAZhSCSg3zy6uuk6WcOTD\"><div class=\"AlD19d\"> <span class=\"qXLe6d x3G5ab\"> <span class=\"fYyStc\">White Cat Breeds</span> </span> <span class=\"qXLe6d F9iS2e\"> <span class=\"fYyStc\">www.dailypaws.com</span> </span> </div></a></td></tr></table></div></div> </div> </div></td><td align=\"center\" class=\"e3goi\"><div class=\"jjVJ4e\"> <div> <div class=\"lIMUZd\"><div><table class=\"RntSmf\"><tr><td><a href=\"/url?q=https://www.dailypaws.com/living-with-pets/pet-compatibility/white-cat-breeds&amp;sa=U&amp;ved=2ahUKEwioo5nstoKCAxUCwjgGHX4lCtMQqoUBegQIDRAB&amp;usg=AOvVaw03gz8KHflBXpXoxeplaNtK\"><div class=\"kCmkOe\"><img alt=\"\" class=\"DS1iW\" src=\"https://encrypted-tbn0.gstatic.com/images?q=tbn:ANd9GcTZxr0APvM0p1qgy2lVhdgm2ODvzyvxYLNG34h9xA8TBBAxMcyUpD_oBNpV&amp;s\"/></div></a></td></tr><tr><td><a href=\"/url?q=https://www.dailypaws.com/living-with-pets/pet-compatibility/white-cat-breeds&amp;sa=U&amp;ved=2ahUKEwioo5nstoKCAxUCwjgGHX4lCtMQr4kDegQIDRAC&amp;usg=AOvVaw0aE-g4VWn1bBVOsBkfUBlq\"><div class=\"AlD19d\"> <span class=\"qXLe6d x3G5ab\"> <span class=\"fYyStc\">white-turkish-angora-cat-...</span> </span> <span class=\"qXLe6d F9iS2e\"> <span class=\"fYyStc\">www.dailypaws.com</span> </span> </div></a></td></tr></table></div></div> </div> </div></td><td align=\"center\" class=\"e3goi\"><div class=\"jjVJ4e\"> <div> <div class=\"lIMUZd\"><div><table class=\"RntSmf\"><tr><td><a href=\"/url?q=https://www.thesprucepets.com/white-cats-profile-554698&amp;sa=U&amp;ved=2ahUKEwioo5nstoKCAxUCwjgGHX4lCtMQqoUBegQIDhAB&amp;usg=AOvVaw2NSv6WqJuM2DXCn3V0VH4h\"><div class=\"kCmkOe\"><img alt=\"\" class=\"DS1iW\" src=\"https://encrypted-tbn0.gstatic.com/images?q=tbn:ANd9GcQjawjOaDSbUxiU967vlmdpWGmvgkpBE9Kbc6DmEMgwh32BUu4aCzSYWs3dvg&amp;s\"/></div></a></td></tr><tr><td><a href=\"/url?q=https://www.thesprucepets.com/white-cats-profile-554698&amp;sa=U&amp;ved=2ahUKEwioo5nstoKCAxUCwjgGHX4lCtMQr4kDegQIDhAC&amp;usg=AOvVaw1oQYdwjCozh7_W1de0EBka\"><div class=\"AlD19d\"> <span class=\"qXLe6d x3G5ab\"> <span class=\"fYyStc\">10 Fun Facts About White...</span> </span> <span class=\"qXLe6d F9iS2e\"> <span class=\"fYyStc\">www.thesprucepets.com</span> </span> </div></a></td></tr></table></div></div> </div> </div></td><td align=\"center\" class=\"e3goi\"><div class=\"jjVJ4e\"> <div> <div class=\"lIMUZd\"><div><table class=\"RntSmf\"><tr><td><a href=\"/url?q=https://catastic.pet/cat-breeds/9-interesting-facts-about-white-cats/&amp;sa=U&amp;ved=2ahUKEwioo5nstoKCAxUCwjgGHX4lCtMQqoUBegQIChAB&amp;usg=AOvVaw0Q0ZC_uzCGfAE9MNbhNduN\"><div class=\"kCmkOe\"><img alt=\"\" class=\"DS1iW\" src=\"https://encrypted-tbn0.gstatic.com/images?q=tbn:ANd9GcT-KwbGb3UvmkIEAStzkQA9AKSrx03ptL4vgJfMdX-0LsdthhfgLwKzgx-Zsw&amp;s\"/></div></a></td></tr><tr><td><a href=\"/url?q=https://catastic.pet/cat-breeds/9-interesting-facts-about-white-cats/&amp;sa=U&amp;ved=2ahUKEwioo5nstoKCAxUCwjgGHX4lCtMQr4kDegQIChAC&amp;usg=AOvVaw1a5KtC0qJ5zifiRZC0kYhe\"><div class=\"AlD19d\"> <span class=\"qXLe6d x3G5ab\"> <span class=\"fYyStc\">9 Interesting Facts About...</span> </span> <span class=\"qXLe6d F9iS2e\"> <span class=\"fYyStc\">catastic.pet</span> </span> </div></a></td></tr></table></div></div> </div> </div></td></tr><tr><td align=\"center\" class=\"e3goi\"><div class=\"jjVJ4e\"> <div> <div class=\"lIMUZd\"><div><table class=\"RntSmf\"><tr><td><a href=\"/url?q=https://www.purina-arabia.com/find-a-pet/articles/cat-types/fur-type/white-cat&amp;sa=U&amp;ved=2ahUKEwioo5nstoKCAxUCwjgGHX4lCtMQqoUBegQICRAB&amp;usg=AOvVaw3yeY4liIRBQCipCRiGwYoX\"><div class=\"kCmkOe\"><img alt=\"\" class=\"DS1iW\" src=\"https://encrypted-tbn0.gstatic.com/images?q=tbn:ANd9GcS08L3HsODtI4_C8aNXS6_SoZlIemsc8SvUbeesZWSZS6aKDe2X0Swegg3kbg&amp;s\"/></div></a></td></tr><tr><td><a href=\"/url?q=https://www.purina-arabia.com/find-a-pet/articles/cat-types/fur-type/white-cat&amp;sa=U&amp;ved=2ahUKEwioo5nstoKCAxUCwjgGHX4lCtMQr4kDegQICRAC&amp;usg=AOvVaw3QvSv4AbHYWSREECry_vF-\"><div class=\"AlD19d\"> <span class=\"qXLe6d x3G5ab\"> <span class=\"fYyStc\">Gorgeous White Cat Breeds...</span> </span> <span class=\"qXLe6d F9iS2e\"> <span class=\"fYyStc\">www.purina-arabia.com</span> </span> </div></a></td></tr></table></div></div> </div> </div></td><td align=\"center\" class=\"e3goi\"><div class=\"jjVJ4e\"> <div> <div class=\"lIMUZd\"><div><table class=\"RntSmf\"><tr><td><a href=\"/url?q=https://www.thesprucepets.com/white-cats-profile-554698&amp;sa=U&amp;ved=2ahUKEwioo5nstoKCAxUCwjgGHX4lCtMQqoUBegQIEBAB&amp;usg=AOvVaw3AWLDJylBNfIFxEN_bPwMN\"><div class=\"kCmkOe\"><img alt=\"\" class=\"DS1iW\" src=\"https://encrypted-tbn0.gstatic.com/images?q=tbn:ANd9GcRHhvHZe6FK-Lc_J12z9gkaGftvsHV6hmipU3Kew26RWYgom8KZsIBBRFX-SA&amp;s\"/></div></a></td></tr><tr><td><a href=\"/url?q=https://www.thesprucepets.com/white-cats-profile-554698&amp;sa=U&amp;ved=2ahUKEwioo5nstoKCAxUCwjgGHX4lCtMQr4kDegQIEBAC&amp;usg=AOvVaw0YU8N9NwpspWe2CJRFOSHd\"><div class=\"AlD19d\"> <span class=\"qXLe6d x3G5ab\"> <span class=\"fYyStc\">10 Fun Facts About White...</span> </span> <span class=\"qXLe6d F9iS2e\"> <span class=\"fYyStc\">www.thesprucepets.com</span> </span> </div></a></td></tr></table></div></div> </div> </div></td><td align=\"center\" class=\"e3goi\"><div class=\"jjVJ4e\"> <div> <div class=\"lIMUZd\"><div><table class=\"RntSmf\"><tr><td><a href=\"/url?q=https://a-z-animals.com/blog/types-of-white-cats/&amp;sa=U&amp;ved=2ahUKEwioo5nstoKCAxUCwjgGHX4lCtMQqoUBegQIDBAB&amp;usg=AOvVaw3ijQkvwcilEbSvegsvfR0c\"><div class=\"kCmkOe\"><img alt=\"\" class=\"DS1iW\" src=\"https://encrypted-tbn0.gstatic.com/images?q=tbn:ANd9GcRDkpCY1GrCgQXuXWHTeiyKC8EvrYHUI9J75GU1Qf0avxdyuf1Vy3UMCKYuYA&amp;s\"/></div></a></td></tr><tr><td><a href=\"/url?q=https://a-z-animals.com/blog/types-of-white-cats/&amp;sa=U&amp;ved=2ahUKEwioo5nstoKCAxUCwjgGHX4lCtMQr4kDegQIDBAC&amp;usg=AOvVaw1F-9evKs9jnB453b8iYZ44\"><div class=\"AlD19d\"> <span class=\"qXLe6d x3G5ab\"> <span class=\"fYyStc\">15 Types of White Cats - AZ...</span> </span> <span class=\"qXLe6d F9iS2e\"> <span class=\"fYyStc\">a-z-animals.com</span> </span> </div></a></td></tr></table></div></div> </div> </div></td><td align=\"center\" class=\"e3goi\"><div class=\"jjVJ4e\"> <div> <div class=\"lIMUZd\"><div><table class=\"RntSmf\"><tr><td><a href=\"/url?q=https://petkeen.com/white-cat-breeds/&amp;sa=U&amp;ved=2ahUKEwioo5nstoKCAxUCwjgGHX4lCtMQqoUBegQIDxAB&amp;usg=AOvVaw3_DoNT7LQJTzdZMnUdbe7t\"><div class=\"kCmkOe\"><img alt=\"\" class=\"DS1iW\" src=\"https://encrypted-tbn0.gstatic.com/images?q=tbn:ANd9GcR99pt2myJmB3_M-lddlXqdPMpIZJl-p2J_U9W3YlCo2cAi5Z_Tg8rUljNQw10&amp;s\"/></div></a></td></tr><tr><td><a href=\"/url?q=https://petkeen.com/white-cat-breeds/&amp;sa=U&amp;ved=2ahUKEwioo5nstoKCAxUCwjgGHX4lCtMQr4kDegQIDxAC&amp;usg=AOvVaw3KPOSuhwdVgVhzx9XwQ9rz\"><div class=\"AlD19d\"> <span class=\"qXLe6d x3G5ab\"> <span class=\"fYyStc\">22 White Cat Breeds:...</span> </span> <span class=\"qXLe6d F9iS2e\"> <span class=\"fYyStc\">petkeen.com</span> </span> </div></a></td></tr></table></div></div> </div> </div></td></tr><tr><td align=\"center\" class=\"e3goi\"><div class=\"jjVJ4e\"> <div> <div class=\"lIMUZd\"><div><table class=\"RntSmf\"><tr><td><a href=\"/url?q=https://unsplash.com/s/photos/white-cats&amp;sa=U&amp;ved=2ahUKEwioo5nstoKCAxUCwjgGHX4lCtMQqoUBegQIBRAB&amp;usg=AOvVaw1UocJXMf03J6akWX_oF4WI\"><div class=\"kCmkOe\"><img alt=\"\" class=\"DS1iW\" src=\"https://encrypted-tbn0.gstatic.com/images?q=tbn:ANd9GcRs--QZnrL3c7_-s118SlMjYHSjzFgygpQutPsu1bSnpqSCgD_u9oQWkFzvDA&amp;s\"/></div></a></td></tr><tr><td><a href=\"/url?q=https://unsplash.com/s/photos/white-cats&amp;sa=U&amp;ved=2ahUKEwioo5nstoKCAxUCwjgGHX4lCtMQr4kDegQIBRAC&amp;usg=AOvVaw3KDhJXtKgvOPhr-2s-ezud\"><div class=\"AlD19d\"> <span class=\"qXLe6d x3G5ab\"> <span class=\"fYyStc\">White Cats Pictures |...</span> </span> <span class=\"qXLe6d F9iS2e\"> <span class=\"fYyStc\">unsplash.com</span> </span> </div></a></td></tr></table></div></div> </div> </div></td><td align=\"center\" class=\"e3goi\"><div class=\"jjVJ4e\"> <div> <div class=\"lIMUZd\"><div><table class=\"RntSmf\"><tr><td><a href=\"/url?q=https://cats.com/white-cat-breeds&amp;sa=U&amp;ved=2ahUKEwioo5nstoKCAxUCwjgGHX4lCtMQqoUBegQIABAB&amp;usg=AOvVaw2sO_I1UUnBkmj04zaknH8X\"><div class=\"kCmkOe\"><img alt=\"\" class=\"DS1iW\" src=\"https://encrypted-tbn0.gstatic.com/images?q=tbn:ANd9GcTwRJbqFzQzKGB1jiCTakksfWkrDTa6Nexg80Re1Z7uVr2v-S_iPYjVlEiuV7M&amp;s\"/></div></a></td></tr><tr><td><a href=\"/url?q=https://cats.com/white-cat-breeds&amp;sa=U&amp;ved=2ahUKEwioo5nstoKCAxUCwjgGHX4lCtMQr4kDegQIABAC&amp;usg=AOvVaw02rxRRnys6UPONvFT2xdov\"><div class=\"AlD19d\"> <span class=\"qXLe6d x3G5ab\"> <span class=\"fYyStc\">14 Beautiful White Cat...</span> </span> <span class=\"qXLe6d F9iS2e\"> <span class=\"fYyStc\">cats.com</span> </span> </div></a></td></tr></table></div></div> </div> </div></td><td align=\"center\" class=\"e3goi\"><div class=\"jjVJ4e\"> <div> <div class=\"lIMUZd\"><div><table class=\"RntSmf\"><tr><td><a href=\"/url?q=https://www.feliway.co.uk/blogs/news/white-cats-5-things-to-know&amp;sa=U&amp;ved=2ahUKEwioo5nstoKCAxUCwjgGHX4lCtMQqoUBegQIARAB&amp;usg=AOvVaw2tO0P3W2rgnO95lDJuDfMy\"><div class=\"kCmkOe\"><img alt=\"\" class=\"DS1iW\" src=\"https://encrypted-tbn0.gstatic.com/images?q=tbn:ANd9GcRTgVZFBcLYSkgVLBEqHnkBjP67YYbtMSbC5RF5DNyrcErIrlO7uyDAnG5iLw&amp;s\"/></div></a></td></tr><tr><td><a href=\"/url?q=https://www.feliway.co.uk/blogs/news/white-cats-5-things-to-know&amp;sa=U&amp;ved=2ahUKEwioo5nstoKCAxUCwjgGHX4lCtMQr4kDegQIARAC&amp;usg=AOvVaw1qBQVFkStjlelns9gONfXd\"><div class=\"AlD19d\"> <span class=\"qXLe6d x3G5ab\"> <span class=\"fYyStc\">White Cats – 5 Things to...</span> </span> <span class=\"qXLe6d F9iS2e\"> <span class=\"fYyStc\">www.feliway.co.uk</span> </span> </div></a></td></tr></table></div></div> </div> </div></td><td align=\"center\" class=\"e3goi\"><div class=\"jjVJ4e\"> <div> <div class=\"lIMUZd\"><div><table class=\"RntSmf\"><tr><td><a href=\"/url?q=https://blog.ferplast.com/en/white-cats-and-the-sun-what-precautions-to-take/&amp;sa=U&amp;ved=2ahUKEwioo5nstoKCAxUCwjgGHX4lCtMQqoUBegQIBxAB&amp;usg=AOvVaw0ByPRV79kAz92zMGp3vNo2\"><div class=\"kCmkOe\"><img alt=\"\" class=\"DS1iW\" src=\"https://encrypted-tbn0.gstatic.com/images?q=tbn:ANd9GcQzZOj95F-qkKsAEIIJ1DcuJFctFyyByfDlMSzJMiTkGsqwaRaz-iTWhrRDJg&amp;s\"/></div></a></td></tr><tr><td><a href=\"/url?q=https://blog.ferplast.com/en/white-cats-and-the-sun-what-precautions-to-take/&amp;sa=U&amp;ved=2ahUKEwioo5nstoKCAxUCwjgGHX4lCtMQr4kDegQIBxAC&amp;usg=AOvVaw2Bfk8NqqFBF9i_dzCeSGwV\"><div class=\"AlD19d\"> <span class=\"qXLe6d x3G5ab\"> <span class=\"fYyStc\">White Cats And The Sun…...</span> </span> <span class=\"qXLe6d F9iS2e\"> <span class=\"fYyStc\">blog.ferplast.com</span> </span> </div></a></td></tr></table></div></div> </div> </div></td></tr><tr><td align=\"center\" class=\"e3goi\"><div class=\"jjVJ4e\"> <div> <div class=\"lIMUZd\"><div><table class=\"RntSmf\"><tr><td><a href=\"/url?q=https://thelittlecarnivore.com/en/blog/cat-coat-white-cats-deaf-white-spotting&amp;sa=U&amp;ved=2ahUKEwioo5nstoKCAxUCwjgGHX4lCtMQqoUBegQICBAB&amp;usg=AOvVaw1c_nZODFqgm_CqzKsaCvl8\"><div class=\"kCmkOe\"><img alt=\"\" class=\"DS1iW\" src=\"https://encrypted-tbn0.gstatic.com/images?q=tbn:ANd9GcQ_EtwV0pzPPs6N0wQT6ZABB0oxoz7Jo06jv7bFpj815alO4HZAfSVLxN2Wqw&amp;s\"/></div></a></td></tr><tr><td><a href=\"/url?q=https://thelittlecarnivore.com/en/blog/cat-coat-white-cats-deaf-white-spotting&amp;sa=U&amp;ved=2ahUKEwioo5nstoKCAxUCwjgGHX4lCtMQr4kDegQICBAC&amp;usg=AOvVaw1kQEiDnUaTZpkVMwUixnWz\"><div class=\"AlD19d\"> <span class=\"qXLe6d x3G5ab\"> <span class=\"fYyStc\">Cat coat: white cats and...</span> </span> <span class=\"qXLe6d F9iS2e\"> <span class=\"fYyStc\">thelittlecarnivore.com</span> </span> </div></a></td></tr></table></div></div> </div> </div></td><td align=\"center\" class=\"e3goi\"><div class=\"jjVJ4e\"> <div> <div class=\"lIMUZd\"><div><table class=\"RntSmf\"><tr><td><a href=\"/url?q=https://www.dailypaws.com/living-with-pets/pet-compatibility/white-cat-breeds&amp;sa=U&amp;ved=2ahUKEwioo5nstoKCAxUCwjgGHX4lCtMQqoUBegQIAhAB&amp;usg=AOvVaw1lNgcl47xS4uKRvhxKu_J3\"><div class=\"kCmkOe\"><img alt=\"\" class=\"DS1iW\" src=\"https://encrypted-tbn0.gstatic.com/images?q=tbn:ANd9GcRygMxYb7elRZNEUDo7sc3H7z7xxm0ehSNe08ObMEETu67PQRbH5rtVsSJInA&amp;s\"/></div></a></td></tr><tr><td><a href=\"/url?q=https://www.dailypaws.com/living-with-pets/pet-compatibility/white-cat-breeds&amp;sa=U&amp;ved=2ahUKEwioo5nstoKCAxUCwjgGHX4lCtMQr4kDegQIAhAC&amp;usg=AOvVaw28H7gNC1QDyoNoxmH6RFrD\"><div class=\"AlD19d\"> <span class=\"qXLe6d x3G5ab\"> <span class=\"fYyStc\">White Cat Breeds</span> </span> <span class=\"qXLe6d F9iS2e\"> <span class=\"fYyStc\">www.dailypaws.com</span> </span> </div></a></td></tr></table></div></div> </div> </div></td><td align=\"center\" class=\"e3goi\"><div class=\"jjVJ4e\"> <div> <div class=\"lIMUZd\"><div><table class=\"RntSmf\"><tr><td><a href=\"/url?q=https://blog.ferplast.com/en/are-white-cats-deaf/&amp;sa=U&amp;ved=2ahUKEwioo5nstoKCAxUCwjgGHX4lCtMQqoUBegQIBBAB&amp;usg=AOvVaw2pw5m-lKeB_PrwpkDQygJT\"><div class=\"kCmkOe\"><img alt=\"\" class=\"DS1iW\" src=\"https://encrypted-tbn0.gstatic.com/images?q=tbn:ANd9GcQXEXk3je5aDPH9xsQSQkiF09hAe8JtV5j4OuZIjlPIGUCAwKv-T5giYoJVggQ&amp;s\"/></div></a></td></tr><tr><td><a href=\"/url?q=https://blog.ferplast.com/en/are-white-cats-deaf/&amp;sa=U&amp;ved=2ahUKEwioo5nstoKCAxUCwjgGHX4lCtMQr4kDegQIBBAC&amp;usg=AOvVaw0Fprr0u45xDp4gu6MLVnzg\"><div class=\"AlD19d\"> <span class=\"qXLe6d x3G5ab\"> <span class=\"fYyStc\">ARE WHITE CATS DEAF?</span> </span> <span class=\"qXLe6d F9iS2e\"> <span class=\"fYyStc\">blog.ferplast.com</span> </span> </div></a></td></tr></table></div></div> </div> </div></td><td align=\"center\" class=\"e3goi\"><div class=\"jjVJ4e\"> <div> <div class=\"lIMUZd\"><div><table class=\"RntSmf\"><tr><td><a href=\"/url?q=https://www.animalwised.com/caring-for-a-white-cat-not-albino-1269.html&amp;sa=U&amp;ved=2ahUKEwioo5nstoKCAxUCwjgGHX4lCtMQqoUBegQIAxAB&amp;usg=AOvVaw2GFrdNwuy8-ENtj6j1Sy1D\"><div class=\"kCmkOe\"><img alt=\"\" class=\"DS1iW\" src=\"https://encrypted-tbn0.gstatic.com/images?q=tbn:ANd9GcRtFFu2NwBqi178YAnRhymbfrC1KZXY0epzAXlDPcHFD4QXbKiiOrexEVDOxO0&amp;s\"/></div></a></td></tr><tr><td><a href=\"/url?q=https://www.animalwised.com/caring-for-a-white-cat-not-albino-1269.html&amp;sa=U&amp;ved=2ahUKEwioo5nstoKCAxUCwjgGHX4lCtMQr4kDegQIAxAC&amp;usg=AOvVaw3J64zbJ_bCDyKevakxMhQa\"><div class=\"AlD19d\"> <span class=\"qXLe6d x3G5ab\"> <span class=\"fYyStc\">Caring For a White Cat -...</span> </span> <span class=\"qXLe6d F9iS2e\"> <span class=\"fYyStc\">www.animalwised.com</span> </span> </div></a></td></tr></table></div></div> </div> </div></td></tr></table></div><table class=\"uZgmoc\"><tbody><td><a class=\"frGj1b\" href=\"/search?q=white+cats&amp;sca_esv=574851237&amp;rlz=1C1VDKB_enIN1012IN1012&amp;biw=1536&amp;bih=707&amp;ie=UTF-8&amp;tbm=isch&amp;ei=c0sxZeidC4KE4-EP_sqomA0&amp;start=20&amp;sa=N\">Next &gt;</a></td></tbody></table><br/><div class=\"TuS8Ad\" data-ved=\"0ahUKEwioo5nstoKCAxUCwjgGHX4lCtMQpyoIUg\"><style>.VYM29{font-weight:bold}</style><div align=\"center\" class=\"HddGcc\"><span class=\"VYM29\">Patna, Bihar</span><span> - </span><span>From your IP address</span><span> - </span><a href=\"/url?q=https://support.google.com/websearch%3Fp%3Dws_settings_location%26hl%3Den-IN&amp;opi=89978449&amp;sa=U&amp;ved=0ahUKEwioo5nstoKCAxUCwjgGHX4lCtMQty4IUw&amp;usg=AOvVaw1pZuCpmtdvnqrby-svV6bt\">Learn more</a></div><div align=\"center\"><a class=\"rEM8G\" href=\"/url?q=https://accounts.google.com/ServiceLogin%3Fcontinue%3Dhttps://www.google.com/search%253Fq%253Dwhite%252Bcats%2526sca_esv%253D574851237%2526rlz%253D1C1VDKB_enIN1012IN1012%2526tbm%253Disch%2526sxsrf%253DAM9HkKloDZRIYDjOhiawuIlxLecaEWVh_w:1697726507175%2526source%253Dlnms%2526sa%253DX%2526ved%253D2ahUKEwif7IqLrIKCAxVW1DgGHbYoAOEQ_AUoAXoECAIQAw%2526biw%253D1536%2526bih%253D707%2526dpr%253D1.25%26hl%3Den&amp;opi=89978449&amp;sa=U&amp;ved=0ahUKEwioo5nstoKCAxUCwjgGHX4lCtMQxs8CCFQ&amp;usg=AOvVaw0-IArw2yp3rZda_DbYhVts\">Sign in</a></div><div><table class=\"bookcf\"><tbody class=\"InWNIe\"><tr><td><a class=\"rEM8G\" href=\"https://www.google.com/preferences?hl=en&amp;sa=X&amp;ved=0ahUKEwioo5nstoKCAxUCwjgGHX4lCtMQv5YECFU\">Settings</a></td><td><a class=\"rEM8G\" href=\"https://www.google.com/intl/en_in/policies/privacy/\">Privacy</a></td><td><a class=\"rEM8G\" href=\"https://www.google.com/intl/en_in/policies/terms/\">Terms</a></td></tr></tbody></table></div></div><div> </div></body></html>"
      ]
     },
     "execution_count": 24,
     "metadata": {},
     "output_type": "execute_result"
    }
   ],
   "source": [
    "# beautifying the content\n",
    "bs(search.content, \"html.parser\")"
   ]
  },
  {
   "cell_type": "code",
   "execution_count": 25,
   "id": "8448e419-ac86-44c4-97ad-fce10412ea31",
   "metadata": {},
   "outputs": [],
   "source": [
    "# store it in a variable\n",
    "soup = bs(search.content, \"html.parser\")"
   ]
  },
  {
   "cell_type": "code",
   "execution_count": 26,
   "id": "beec8b49-0175-4e84-b08b-b56abb990721",
   "metadata": {},
   "outputs": [
    {
     "data": {
      "text/plain": [
       "[<img alt=\"Google\" class=\"kgJEQe\" src=\"/images/branding/searchlogo/1x/googlelogo_desk_heirloom_color_150x55dp.gif\"/>,\n",
       " <img alt=\"\" class=\"DS1iW\" src=\"https://encrypted-tbn0.gstatic.com/images?q=tbn:ANd9GcSMmoxmaZghNzlONBz4X5V-ln_cxJYKxEA7QzOux8de3omuJaZYvkBIZAGxDAw&amp;s\"/>,\n",
       " <img alt=\"\" class=\"DS1iW\" src=\"https://encrypted-tbn0.gstatic.com/images?q=tbn:ANd9GcRJ4Oc9uEdw7avzKT2cRi4UAC6aU3GaWBJXkUxthd2goNX1fd7PLKyiMgF_j8U&amp;s\"/>,\n",
       " <img alt=\"\" class=\"DS1iW\" src=\"https://encrypted-tbn0.gstatic.com/images?q=tbn:ANd9GcRvTA2O_8nUEMdDzc7GuoeQhWi5NoRx8RWOuzPP4GeFFTagAfs0hUHNgX-27II&amp;s\"/>,\n",
       " <img alt=\"\" class=\"DS1iW\" src=\"https://encrypted-tbn0.gstatic.com/images?q=tbn:ANd9GcSphIpQx79O_YOl_8I7DtIjCE9aJJk9xEsViqEp2kjxn7QPodZeNqTLfYjjfA&amp;s\"/>,\n",
       " <img alt=\"\" class=\"DS1iW\" src=\"https://encrypted-tbn0.gstatic.com/images?q=tbn:ANd9GcR3o_XTwisS2GrbHmbfE-FET52NGUGkRaCLZPSYtzhhwJvxT6bINeJlYnTqzQ&amp;s\"/>,\n",
       " <img alt=\"\" class=\"DS1iW\" src=\"https://encrypted-tbn0.gstatic.com/images?q=tbn:ANd9GcTZxr0APvM0p1qgy2lVhdgm2ODvzyvxYLNG34h9xA8TBBAxMcyUpD_oBNpV&amp;s\"/>,\n",
       " <img alt=\"\" class=\"DS1iW\" src=\"https://encrypted-tbn0.gstatic.com/images?q=tbn:ANd9GcQjawjOaDSbUxiU967vlmdpWGmvgkpBE9Kbc6DmEMgwh32BUu4aCzSYWs3dvg&amp;s\"/>,\n",
       " <img alt=\"\" class=\"DS1iW\" src=\"https://encrypted-tbn0.gstatic.com/images?q=tbn:ANd9GcT-KwbGb3UvmkIEAStzkQA9AKSrx03ptL4vgJfMdX-0LsdthhfgLwKzgx-Zsw&amp;s\"/>,\n",
       " <img alt=\"\" class=\"DS1iW\" src=\"https://encrypted-tbn0.gstatic.com/images?q=tbn:ANd9GcS08L3HsODtI4_C8aNXS6_SoZlIemsc8SvUbeesZWSZS6aKDe2X0Swegg3kbg&amp;s\"/>,\n",
       " <img alt=\"\" class=\"DS1iW\" src=\"https://encrypted-tbn0.gstatic.com/images?q=tbn:ANd9GcRHhvHZe6FK-Lc_J12z9gkaGftvsHV6hmipU3Kew26RWYgom8KZsIBBRFX-SA&amp;s\"/>,\n",
       " <img alt=\"\" class=\"DS1iW\" src=\"https://encrypted-tbn0.gstatic.com/images?q=tbn:ANd9GcRDkpCY1GrCgQXuXWHTeiyKC8EvrYHUI9J75GU1Qf0avxdyuf1Vy3UMCKYuYA&amp;s\"/>,\n",
       " <img alt=\"\" class=\"DS1iW\" src=\"https://encrypted-tbn0.gstatic.com/images?q=tbn:ANd9GcR99pt2myJmB3_M-lddlXqdPMpIZJl-p2J_U9W3YlCo2cAi5Z_Tg8rUljNQw10&amp;s\"/>,\n",
       " <img alt=\"\" class=\"DS1iW\" src=\"https://encrypted-tbn0.gstatic.com/images?q=tbn:ANd9GcRs--QZnrL3c7_-s118SlMjYHSjzFgygpQutPsu1bSnpqSCgD_u9oQWkFzvDA&amp;s\"/>,\n",
       " <img alt=\"\" class=\"DS1iW\" src=\"https://encrypted-tbn0.gstatic.com/images?q=tbn:ANd9GcTwRJbqFzQzKGB1jiCTakksfWkrDTa6Nexg80Re1Z7uVr2v-S_iPYjVlEiuV7M&amp;s\"/>,\n",
       " <img alt=\"\" class=\"DS1iW\" src=\"https://encrypted-tbn0.gstatic.com/images?q=tbn:ANd9GcRTgVZFBcLYSkgVLBEqHnkBjP67YYbtMSbC5RF5DNyrcErIrlO7uyDAnG5iLw&amp;s\"/>,\n",
       " <img alt=\"\" class=\"DS1iW\" src=\"https://encrypted-tbn0.gstatic.com/images?q=tbn:ANd9GcQzZOj95F-qkKsAEIIJ1DcuJFctFyyByfDlMSzJMiTkGsqwaRaz-iTWhrRDJg&amp;s\"/>,\n",
       " <img alt=\"\" class=\"DS1iW\" src=\"https://encrypted-tbn0.gstatic.com/images?q=tbn:ANd9GcQ_EtwV0pzPPs6N0wQT6ZABB0oxoz7Jo06jv7bFpj815alO4HZAfSVLxN2Wqw&amp;s\"/>,\n",
       " <img alt=\"\" class=\"DS1iW\" src=\"https://encrypted-tbn0.gstatic.com/images?q=tbn:ANd9GcRygMxYb7elRZNEUDo7sc3H7z7xxm0ehSNe08ObMEETu67PQRbH5rtVsSJInA&amp;s\"/>,\n",
       " <img alt=\"\" class=\"DS1iW\" src=\"https://encrypted-tbn0.gstatic.com/images?q=tbn:ANd9GcQXEXk3je5aDPH9xsQSQkiF09hAe8JtV5j4OuZIjlPIGUCAwKv-T5giYoJVggQ&amp;s\"/>,\n",
       " <img alt=\"\" class=\"DS1iW\" src=\"https://encrypted-tbn0.gstatic.com/images?q=tbn:ANd9GcRtFFu2NwBqi178YAnRhymbfrC1KZXY0epzAXlDPcHFD4QXbKiiOrexEVDOxO0&amp;s\"/>]"
      ]
     },
     "execution_count": 26,
     "metadata": {},
     "output_type": "execute_result"
    }
   ],
   "source": [
    "# finding imgaes\n",
    "images_tag = soup.find_all(\"img\")\n",
    "images_tag"
   ]
  },
  {
   "cell_type": "code",
   "execution_count": 27,
   "id": "7c3ead62-d019-4dcb-8284-405b14584b02",
   "metadata": {},
   "outputs": [
    {
     "data": {
      "text/plain": [
       "21"
      ]
     },
     "execution_count": 27,
     "metadata": {},
     "output_type": "execute_result"
    }
   ],
   "source": [
    "len(images_tag)"
   ]
  },
  {
   "cell_type": "code",
   "execution_count": 28,
   "id": "5ef935b6-6dc1-466a-92ea-41ccad416670",
   "metadata": {},
   "outputs": [],
   "source": [
    "del images_tag[0]"
   ]
  },
  {
   "cell_type": "code",
   "execution_count": 29,
   "id": "696f99b1-3b93-4b24-9e96-e2e9c103cab6",
   "metadata": {},
   "outputs": [
    {
     "data": {
      "text/plain": [
       "20"
      ]
     },
     "execution_count": 29,
     "metadata": {},
     "output_type": "execute_result"
    }
   ],
   "source": [
    "len(images_tag)"
   ]
  },
  {
   "cell_type": "code",
   "execution_count": 30,
   "id": "e7901e8e-3a06-4d0a-8196-11c7d0844865",
   "metadata": {},
   "outputs": [],
   "source": [
    "img_data_mongo = []\n",
    "for i in images_tag:\n",
    "    image_url = i['src']\n",
    "    image_data = requests.get(image_url).content\n",
    "    img_dic = {\"index\" : image_url, \"image\" : image_data}\n",
    "    img_data_mongo.append(img_dic)\n",
    "    #inserting in images my (save_dir) file\n",
    "    with open(os.path.join(save_dir, f\"{query}_{images_tag.index(i)}.jpg\"),\"wb\") as f:\n",
    "        f.write(image_data)"
   ]
  },
  {
   "cell_type": "code",
   "execution_count": 31,
   "id": "d7e4d1bf-019a-40a2-b243-0a0e9023bec2",
   "metadata": {},
   "outputs": [],
   "source": [
    "# storing the images in Mongodb"
   ]
  },
  {
   "cell_type": "code",
   "execution_count": 32,
   "id": "42e67752-6e19-45c4-88e6-c6888a1e5ee5",
   "metadata": {},
   "outputs": [
    {
     "name": "stdout",
     "output_type": "stream",
     "text": [
      "Requirement already satisfied: pymongo in c:\\users\\bushra\\appdata\\local\\programs\\python\\python311\\lib\\site-packages (4.5.0)Note: you may need to restart the kernel to use updated packages.\n",
      "\n",
      "Requirement already satisfied: dnspython<3.0.0,>=1.16.0 in c:\\users\\bushra\\appdata\\local\\programs\\python\\python311\\lib\\site-packages (from pymongo) (2.4.2)\n"
     ]
    },
    {
     "name": "stderr",
     "output_type": "stream",
     "text": [
      "\n",
      "[notice] A new release of pip is available: 23.1.2 -> 23.3\n",
      "[notice] To update, run: C:\\Users\\Bushra\\AppData\\Local\\Programs\\Python\\Python311\\python.exe -m pip install --upgrade pip\n"
     ]
    }
   ],
   "source": [
    "\n",
    "pip install pymongo"
   ]
  },
  {
   "cell_type": "code",
   "execution_count": 1,
   "id": "0cac9498-f22b-411a-92b7-51e0c04f9161",
   "metadata": {},
   "outputs": [],
   "source": [
    "import pymongo"
   ]
  },
  {
   "cell_type": "code",
   "execution_count": 34,
   "id": "c4420ec3-4e44-4352-b9c9-71c12f1150cb",
   "metadata": {},
   "outputs": [],
   "source": [
    "client = pymongo.MongoClient(\"mongodb+srv://user:<password>@cluster0.zrlkbla.mongodb.net/?retryWrites=true&w=majority\")"
   ]
  },
  {
   "cell_type": "code",
   "execution_count": 35,
   "id": "85dd6189-ffd4-40e8-bc40-1198426d32c1",
   "metadata": {},
   "outputs": [],
   "source": [
    "#creating database\n",
    "db = client['Image_scraping']"
   ]
  },
  {
   "cell_type": "code",
   "execution_count": 36,
   "id": "03df8554-cf07-47a6-8f00-4012fc66c264",
   "metadata": {},
   "outputs": [],
   "source": [
    "images = db['Cat_images']"
   ]
  },
  {
   "cell_type": "code",
   "execution_count": 37,
   "id": "b0d67912-21c2-4134-809f-606cc80acd0e",
   "metadata": {},
   "outputs": [
    {
     "data": {
      "text/plain": [
       "<pymongo.results.InsertManyResult at 0x1682c416440>"
      ]
     },
     "execution_count": 37,
     "metadata": {},
     "output_type": "execute_result"
    }
   ],
   "source": [
    "images.insert_many(img_data_mongo)"
   ]
  },
  {
   "cell_type": "code",
   "execution_count": null,
   "id": "487890dc-c929-44cc-86c7-decfcbcb51aa",
   "metadata": {},
   "outputs": [],
   "source": []
  },
  {
   "cell_type": "code",
   "execution_count": null,
   "id": "c80b1940-c192-4a50-a457-caf78b2d6076",
   "metadata": {},
   "outputs": [],
   "source": []
  }
 ],
 "metadata": {
  "kernelspec": {
   "display_name": "Python 3 (ipykernel)",
   "language": "python",
   "name": "python3"
  },
  "language_info": {
   "codemirror_mode": {
    "name": "ipython",
    "version": 3
   },
   "file_extension": ".py",
   "mimetype": "text/x-python",
   "name": "python",
   "nbconvert_exporter": "python",
   "pygments_lexer": "ipython3",
   "version": "3.11.4"
  }
 },
 "nbformat": 4,
 "nbformat_minor": 5
}
